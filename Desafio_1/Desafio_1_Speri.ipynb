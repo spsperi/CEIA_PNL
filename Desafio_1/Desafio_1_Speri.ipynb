{
  "cells": [
    {
      "cell_type": "markdown",
      "source": [
        "# NOTEBOOK DESAFIO 1 PNL\n",
        "Alumna: Sofia Speri"
      ],
      "metadata": {
        "id": "51rlQIKh-IHR"
      }
    },
    {
      "cell_type": "markdown",
      "source": [
        "## Código de la clase"
      ],
      "metadata": {
        "id": "WvpwCJ2w-X7N"
      }
    },
    {
      "cell_type": "markdown",
      "metadata": {
        "id": "zq6j8LsYq1Dr"
      },
      "source": [
        "### Vectorización de texto y modelo de clasificación Naïve Bayes con el dataset 20 newsgroups"
      ]
    },
    {
      "cell_type": "code",
      "execution_count": null,
      "metadata": {
        "id": "l7cXR6CI30ry"
      },
      "outputs": [],
      "source": [
        "from sklearn.feature_extraction.text import CountVectorizer, TfidfVectorizer\n",
        "from sklearn.metrics.pairwise import cosine_similarity\n",
        "from sklearn.naive_bayes import MultinomialNB, ComplementNB\n",
        "from sklearn.metrics import f1_score\n",
        "\n",
        "# 20newsgroups por ser un dataset clásico de NLP ya viene incluido y formateado\n",
        "# en sklearn\n",
        "from sklearn.datasets import fetch_20newsgroups\n",
        "import numpy as np"
      ]
    },
    {
      "cell_type": "markdown",
      "metadata": {
        "id": "yD-pVDWV_rQc"
      },
      "source": [
        "### Carga de datos"
      ]
    },
    {
      "cell_type": "code",
      "execution_count": null,
      "metadata": {
        "id": "Ech9qJaUo9vK"
      },
      "outputs": [],
      "source": [
        "# cargamos los datos (ya separados de forma predeterminada en train y test)\n",
        "newsgroups_train = fetch_20newsgroups(subset='train', remove=('headers', 'footers', 'quotes'))\n",
        "newsgroups_test = fetch_20newsgroups(subset='test', remove=('headers', 'footers', 'quotes'))"
      ]
    },
    {
      "cell_type": "markdown",
      "metadata": {
        "id": "UxjSI7su_uWI"
      },
      "source": [
        "### Vectorización"
      ]
    },
    {
      "cell_type": "code",
      "execution_count": null,
      "metadata": {
        "id": "-94VP0QYCzDn"
      },
      "outputs": [],
      "source": [
        "# instanciamos un vectorizador\n",
        "# ver diferentes parámetros de instanciación en la documentación de sklearn\n",
        "tfidfvect = TfidfVectorizer()"
      ]
    },
    {
      "cell_type": "code",
      "execution_count": null,
      "metadata": {
        "colab": {
          "base_uri": "https://localhost:8080/",
          "height": 104
        },
        "id": "ftPlyanuak8n",
        "outputId": "f53f0ba9-43f3-49fd-c513-c89d7fd52880"
      },
      "outputs": [
        {
          "output_type": "execute_result",
          "data": {
            "text/plain": [
              "'I was wondering if anyone out there could enlighten me on this car I saw\\nthe other day. It was a 2-door sports car, looked to be from the late 60s/\\nearly 70s. It was called a Bricklin. The doors were really small. In addition,\\nthe front bumper was separate from the rest of the body. This is \\nall I know. If anyone can tellme a model name, engine specs, years\\nof production, where this car is made, history, or whatever info you\\nhave on this funky looking car, please e-mail.'"
            ],
            "application/vnd.google.colaboratory.intrinsic+json": {
              "type": "string"
            }
          },
          "metadata": {},
          "execution_count": 4
        }
      ],
      "source": [
        "# en el atributo `data` accedemos al texto\n",
        "newsgroups_train.data[0]"
      ]
    },
    {
      "cell_type": "code",
      "execution_count": null,
      "metadata": {
        "id": "1zxcXV6aC_oL"
      },
      "outputs": [],
      "source": [
        "# con la interfaz habitual de sklearn podemos fitear el vectorizador\n",
        "# (obtener el vocabulario y calcular el vector IDF)\n",
        "# y transformar directamente los datos\n",
        "X_train = tfidfvect.fit_transform(newsgroups_train.data)\n",
        "# `X_train` la podemos denominar como la matriz documento-término"
      ]
    },
    {
      "cell_type": "code",
      "execution_count": null,
      "metadata": {
        "colab": {
          "base_uri": "https://localhost:8080/"
        },
        "id": "4Sv7TXbda41-",
        "outputId": "450dfa3b-fedf-4148-f0cd-970aaa712553"
      },
      "outputs": [
        {
          "output_type": "stream",
          "name": "stdout",
          "text": [
            "<class 'scipy.sparse._csr.csr_matrix'>\n",
            "shape: (11314, 101631)\n",
            "cantidad de documentos: 11314\n",
            "tamaño del vocabulario (dimensionalidad de los vectores): 101631\n"
          ]
        }
      ],
      "source": [
        "# recordar que las vectorizaciones por conteos son esparsas\n",
        "# por ello sklearn convenientemente devuelve los vectores de documentos\n",
        "# como matrices esparsas\n",
        "print(type(X_train))\n",
        "print(f'shape: {X_train.shape}')\n",
        "print(f'cantidad de documentos: {X_train.shape[0]}')\n",
        "print(f'tamaño del vocabulario (dimensionalidad de los vectores): {X_train.shape[1]}')"
      ]
    },
    {
      "cell_type": "code",
      "execution_count": null,
      "metadata": {
        "colab": {
          "base_uri": "https://localhost:8080/"
        },
        "id": "dgydNTZ2pAgR",
        "outputId": "268928a3-2cb8-48a2-e879-cb6630e88f26"
      },
      "outputs": [
        {
          "output_type": "execute_result",
          "data": {
            "text/plain": [
              "25775"
            ]
          },
          "metadata": {},
          "execution_count": 7
        }
      ],
      "source": [
        "# una vez fiteado el vectorizador, podemos acceder a atributos como el vocabulario\n",
        "# aprendido. Es un diccionario que va de términos a índices.\n",
        "# El índice es la posición en el vector de documento.\n",
        "tfidfvect.vocabulary_['car']"
      ]
    },
    {
      "cell_type": "code",
      "execution_count": null,
      "metadata": {
        "id": "xnTSZuvyrTcP"
      },
      "outputs": [],
      "source": [
        "# es muy útil tener el diccionario opuesto que va de índices a términos\n",
        "idx2word = {v: k for k,v in tfidfvect.vocabulary_.items()}"
      ]
    },
    {
      "cell_type": "code",
      "execution_count": null,
      "metadata": {
        "colab": {
          "base_uri": "https://localhost:8080/"
        },
        "id": "swa-AgWrMSHM",
        "outputId": "2b0af36a-2e30-48d9-e0b9-ae48defba615"
      },
      "outputs": [
        {
          "output_type": "execute_result",
          "data": {
            "text/plain": [
              "array([ 7,  4,  4,  1, 14, 16, 13,  3,  2,  4])"
            ]
          },
          "metadata": {},
          "execution_count": 9
        }
      ],
      "source": [
        "# en `y_train` guardamos los targets que son enteros\n",
        "y_train = newsgroups_train.target\n",
        "y_train[:10]"
      ]
    },
    {
      "cell_type": "code",
      "execution_count": null,
      "metadata": {
        "colab": {
          "base_uri": "https://localhost:8080/"
        },
        "id": "je5kxvQMDLvf",
        "outputId": "58dd7592-0a7f-4926-b24d-26141b61d1a4"
      },
      "outputs": [
        {
          "output_type": "stream",
          "name": "stdout",
          "text": [
            "clases [ 0  1  2  3  4  5  6  7  8  9 10 11 12 13 14 15 16 17 18 19]\n"
          ]
        },
        {
          "output_type": "execute_result",
          "data": {
            "text/plain": [
              "['alt.atheism',\n",
              " 'comp.graphics',\n",
              " 'comp.os.ms-windows.misc',\n",
              " 'comp.sys.ibm.pc.hardware',\n",
              " 'comp.sys.mac.hardware',\n",
              " 'comp.windows.x',\n",
              " 'misc.forsale',\n",
              " 'rec.autos',\n",
              " 'rec.motorcycles',\n",
              " 'rec.sport.baseball',\n",
              " 'rec.sport.hockey',\n",
              " 'sci.crypt',\n",
              " 'sci.electronics',\n",
              " 'sci.med',\n",
              " 'sci.space',\n",
              " 'soc.religion.christian',\n",
              " 'talk.politics.guns',\n",
              " 'talk.politics.mideast',\n",
              " 'talk.politics.misc',\n",
              " 'talk.religion.misc']"
            ]
          },
          "metadata": {},
          "execution_count": 10
        }
      ],
      "source": [
        "# hay 20 clases correspondientes a los 20 grupos de noticias\n",
        "print(f'clases {np.unique(newsgroups_test.target)}')\n",
        "newsgroups_test.target_names"
      ]
    },
    {
      "cell_type": "markdown",
      "metadata": {
        "id": "SXCICFSd_y90"
      },
      "source": [
        "### Similaridad de documentos"
      ]
    },
    {
      "cell_type": "code",
      "execution_count": null,
      "metadata": {
        "colab": {
          "base_uri": "https://localhost:8080/"
        },
        "id": "_pki_olShnyE",
        "outputId": "82af0347-db8c-4efa-911a-9e3fc4827a57"
      },
      "outputs": [
        {
          "output_type": "stream",
          "name": "stdout",
          "text": [
            "THE WHITE HOUSE\n",
            "\n",
            "                  Office of the Press Secretary\n",
            "                   (Pittsburgh, Pennslyvania)\n",
            "______________________________________________________________\n",
            "For Immediate Release                         April 17, 1993     \n",
            "\n",
            "             \n",
            "                  RADIO ADDRESS TO THE NATION \n",
            "                        BY THE PRESIDENT\n",
            "             \n",
            "                Pittsburgh International Airport\n",
            "                    Pittsburgh, Pennsylvania\n",
            "             \n",
            "             \n",
            "10:06 A.M. EDT\n",
            "             \n",
            "             \n",
            "             THE PRESIDENT:  Good morning.  My voice is coming to\n",
            "you this morning through the facilities of the oldest radio\n",
            "station in America, KDKA in Pittsburgh.  I'm visiting the city to\n",
            "meet personally with citizens here to discuss my plans for jobs,\n",
            "health care and the economy.  But I wanted first to do my weekly\n",
            "broadcast with the American people. \n",
            "             \n",
            "             I'm told this station first broadcast in 1920 when\n",
            "it reported that year's presidential elections.  Over the past\n",
            "seven decades presidents have found ways to keep in touch with\n",
            "the people, from whistle-stop tours to fire-side chats to the bus\n",
            "tour that I adopted, along with Vice President Gore, in last\n",
            "year's campaign.\n",
            "             \n",
            "             Every Saturday morning I take this time to talk with\n",
            "you, my fellow Americans, about the problems on your minds and\n",
            "what I'm doing to try and solve them.  It's my way of reporting\n",
            "to you and of giving you a way to hold me accountable.\n",
            "             \n",
            "             You sent me to Washington to get our government and\n",
            "economy moving after years of paralysis and policy and a bad\n",
            "experiment with trickle-down economics.  You know how important\n",
            "it is for us to make bold, comprehensive changes in the way we do\n",
            "business.  \n",
            "             \n",
            "             We live in a competitive global economy.  Nations\n",
            "rise and fall on the skills of their workers, the competitiveness\n",
            "of their companies, the imagination of their industries, and the\n",
            "cooperative experience and spirit that exists between business,\n",
            "labor and government.  Although many of the economies of the\n",
            "industrialized world are now suffering from slow growth, they've\n",
            "made many of the smart investments and the tough choices which\n",
            "our government has for too long ignored.  That's why many of them\n",
            "have been moving ahead and too many of our people have been\n",
            "falling behind.\n",
            "             \n",
            "             We have an economy today that even when it grows is\n",
            "not producing new jobs.  We've increased the debt of our nation\n",
            "by four times over the last 12 years, and we don't have much to\n",
            "show for it.  We know that wages of most working people have\n",
            "stopped rising, that most people are working longer work weeks\n",
            "and that too many families can no longer afford the escalating\n",
            "cost of health care.\n",
            "             \n",
            "             But we also know that, given the right tools, the\n",
            "right incentives and the right encouragement, our workers and\n",
            "businesses can make the kinds of products and profits our economy\n",
            "needs to expand opportunity and to make our communities better\n",
            "places to live.\n",
            "             \n",
            "             In many critical products today Americans are the\n",
            "low cost, high quality producers.  Our task is to make sure that\n",
            "we create more of those kinds of jobs.\n",
            "             \n",
            "             Just two months ago I gave Congress my plan for\n",
            "long-term jobs and economic growth.  It changes the old\n",
            "priorities in Washington and puts our emphasis where it needs to\n",
            "be -- on people's real needs, on increasing investments and jobs\n",
            "and education, on cutting the federal deficit, on stopping the\n",
            "waste which pays no dividends, and redirecting our precious\n",
            "resources toward investment that creates jobs now and lays the\n",
            "groundwork for robust economic growth in the future.\n",
            "             \n",
            "             These new directions passed the Congress in record\n",
            "time and created a new sense of hope and opportunity in our\n",
            "country.  Then the jobs plan I presented to Congress, which would\n",
            "create hundreds of thousands of jobs, most of them in the private\n",
            "sector in 1993 and 1994, passed the House of Representatives.  It\n",
            "now has the support of a majority of the United States Senate. \n",
            "But it's been held up by a filibuster of a minority in the\n",
            "Senate, just 43 senators.  They blocked a vote that they know\n",
            "would result in the passage of our bill and the creation of jobs.\n",
            "             \n",
            "             The issue isn't politics; the issue is people. \n",
            "Millions of Americans are waiting for this legislation and\n",
            "counting on it, counting on us in Washington.  But the jobs bill\n",
            "has been grounded by gridlock.  \n",
            "             \n",
            "             I know the American people are tired of business as\n",
            "usual and politics as usual.  I know they don't want us to spin\n",
            "or wheels.  They want the recovery to get moving.  So I have\n",
            "taken a first step to break this gridlock and gone the extra\n",
            "mile.  Yesterday I offered to cut the size of this plan by 25\n",
            "percent -- from $16 billion to $12 billion.  \n",
            "             \n",
            "             It's not what I'd hoped for.  With 16 million\n",
            "Americans looking for full-time work, I simply can't let the bill\n",
            "languish when I know that even a compromise bill will mean\n",
            "hundreds of thousands of jobs for our people.  The mandate is to\n",
            "act to achieve change and move the country forward.  By taking\n",
            "this initiative in the face of an unrelenting Senate talkathon, I\n",
            "think we can respond to your mandate and achieve a significant\n",
            "portion of our original goals.\n",
            "             \n",
            "             First, we want to keep the programs as much as\n",
            "possible that are needed to generate jobs and meet human needs,\n",
            "including highway and road construction, summer jobs for young\n",
            "people, immunization for children, construction of waste water\n",
            "sites, and aid to small businesses.  We also want to keep funding\n",
            "for extended unemployment compensation benefits, for people who\n",
            "have been unemployed for a long time because the economy isn't\n",
            "creating jobs.\n",
            "             \n",
            "             Second, I've recommended that all the other programs\n",
            "in the bill be cut across-the-board by a little more than 40\n",
            "percent.\n",
            "             \n",
            "             And third, I've recommended a new element in this\n",
            "program to help us immediately start our attempt to fight against\n",
            "crime by providing $200 million for cities and towns to rehire\n",
            "police officers who lost their jobs during the recession and put\n",
            "them back to work protecting our people.  I'm also going to fight\n",
            "for a tough crime bill because the people of this country need it\n",
            "and deserve it.\n",
            "             \n",
            "             Now, the people who are filibustering this bill --\n",
            "the Republican senators -- say they won't vote for it because it\n",
            "increases deficit spending, because there's extra spending this\n",
            "year that hasn't already been approved.  That sounds reasonable,\n",
            "doesn't it?  Here's what they don't say.  This program is more\n",
            "than paid for by budget cuts over my five-year budget, and this\n",
            "budget is well within the spending limits already approved by the\n",
            "Congress this year.\n",
            "             \n",
            "             It's amazing to me that many of these same senators\n",
            "who are filibustering the bill voted during the previous\n",
            "administration for billions of dollars of the same kind of\n",
            "emergency spending, and much of it was not designed to put the\n",
            "American people to work.  \n",
            "             \n",
            "             This is not about deficit spending.  We have offered\n",
            "a plan to cut the deficit.  This is about where your priorities\n",
            "are -- on people or on politics.  \n",
            "             \n",
            "             Keep in mind that our jobs bill is paid for dollar\n",
            "for dollar.  It is paid for by budget cuts.  And it's the\n",
            "soundest investment we can now make for ourselves and our\n",
            "children.  I urge all Americans to take another look at this jobs\n",
            "and investment program; to consider again the benefits for all of\n",
            "us when we've helped make more American partners working to\n",
            "ensure the future of our nation and the strength of our economy.\n",
            "             \n",
            "             You know, if every American who wanted a job had\n",
            "one, we wouldn't have a lot of the other problems we have in this\n",
            "country today.  This bill is not a miracle, it's a modest first\n",
            "step to try to set off a job creation explosion in this country\n",
            "again.  But it's a step we ought to take.  And it is fully paid\n",
            "for over the life of our budget.\n",
            "             \n",
            "             Tell your lawmakers what you think.  Tell them how\n",
            "important the bill is.  If it passes, we'll all be winners.\n",
            "             \n",
            "             Good morning, and thank you for listening.\n"
          ]
        }
      ],
      "source": [
        "# Veamos similaridad de documentos. Tomemos algún documento\n",
        "idx = 4811\n",
        "print(newsgroups_train.data[idx])"
      ]
    },
    {
      "cell_type": "code",
      "execution_count": null,
      "metadata": {
        "id": "Ssa9bqJ-hA_v"
      },
      "outputs": [],
      "source": [
        "# midamos la similaridad coseno con todos los documentos de train\n",
        "cossim = cosine_similarity(X_train[idx], X_train)[0]"
      ]
    },
    {
      "cell_type": "code",
      "execution_count": null,
      "metadata": {
        "colab": {
          "base_uri": "https://localhost:8080/"
        },
        "id": "p_mDA7p3AzcQ",
        "outputId": "8db9fab4-9f70-4aa0-98a5-c2e5f7916b56"
      },
      "outputs": [
        {
          "output_type": "execute_result",
          "data": {
            "text/plain": [
              "array([1.        , 0.70930477, 0.67474953, ..., 0.        , 0.        ,\n",
              "       0.        ])"
            ]
          },
          "metadata": {},
          "execution_count": 13
        }
      ],
      "source": [
        "# podemos ver los valores de similaridad ordenados de mayor a menos\n",
        "np.sort(cossim)[::-1]"
      ]
    },
    {
      "cell_type": "code",
      "execution_count": null,
      "metadata": {
        "colab": {
          "base_uri": "https://localhost:8080/"
        },
        "id": "0OIhDA1jAryX",
        "outputId": "8c58f163-6db1-460c-ae9f-5b9c74470afd"
      },
      "outputs": [
        {
          "output_type": "execute_result",
          "data": {
            "text/plain": [
              "array([ 4811,  6635,  4253, ...,  1534, 10055,  4750])"
            ]
          },
          "metadata": {},
          "execution_count": 14
        }
      ],
      "source": [
        "# y a qué documentos corresponden\n",
        "np.argsort(cossim)[::-1]"
      ]
    },
    {
      "cell_type": "code",
      "execution_count": null,
      "metadata": {
        "id": "hP7qLS4ZBLps"
      },
      "outputs": [],
      "source": [
        "# los 5 documentos más similares:\n",
        "mostsim = np.argsort(cossim)[::-1][1:6]"
      ]
    },
    {
      "cell_type": "code",
      "execution_count": null,
      "metadata": {
        "colab": {
          "base_uri": "https://localhost:8080/",
          "height": 35
        },
        "id": "QdJLHPJACvaj",
        "outputId": "43c475d9-a971-404d-b9c7-0a922cc4d64e"
      },
      "outputs": [
        {
          "output_type": "execute_result",
          "data": {
            "text/plain": [
              "'talk.politics.misc'"
            ],
            "application/vnd.google.colaboratory.intrinsic+json": {
              "type": "string"
            }
          },
          "metadata": {},
          "execution_count": 16
        }
      ],
      "source": [
        "# el documento original pertenece a la clase:\n",
        "newsgroups_train.target_names[y_train[idx]]"
      ]
    },
    {
      "cell_type": "code",
      "execution_count": null,
      "metadata": {
        "colab": {
          "base_uri": "https://localhost:8080/"
        },
        "id": "RWy_73epCbFG",
        "outputId": "22d0c4d4-12c6-4a3f-c6c8-237709c2ef9d"
      },
      "outputs": [
        {
          "output_type": "stream",
          "name": "stdout",
          "text": [
            "talk.politics.misc\n",
            "talk.politics.misc\n",
            "talk.politics.misc\n",
            "talk.politics.misc\n",
            "talk.politics.misc\n"
          ]
        }
      ],
      "source": [
        "# y los 5 más similares son de las clases:\n",
        "for i in mostsim:\n",
        "  print(newsgroups_train.target_names[y_train[i]])"
      ]
    },
    {
      "cell_type": "markdown",
      "metadata": {
        "id": "zRoNnKwhBqzq"
      },
      "source": [
        "### Modelo de clasificación Naïve Bayes"
      ]
    },
    {
      "cell_type": "code",
      "execution_count": null,
      "metadata": {
        "colab": {
          "base_uri": "https://localhost:8080/",
          "height": 74
        },
        "id": "TPM0thDaLk0R",
        "outputId": "30646bfb-2a7b-4c95-c179-ddc4775259e1"
      },
      "outputs": [
        {
          "output_type": "execute_result",
          "data": {
            "text/plain": [
              "MultinomialNB()"
            ],
            "text/html": [
              "<style>#sk-container-id-1 {color: black;}#sk-container-id-1 pre{padding: 0;}#sk-container-id-1 div.sk-toggleable {background-color: white;}#sk-container-id-1 label.sk-toggleable__label {cursor: pointer;display: block;width: 100%;margin-bottom: 0;padding: 0.3em;box-sizing: border-box;text-align: center;}#sk-container-id-1 label.sk-toggleable__label-arrow:before {content: \"▸\";float: left;margin-right: 0.25em;color: #696969;}#sk-container-id-1 label.sk-toggleable__label-arrow:hover:before {color: black;}#sk-container-id-1 div.sk-estimator:hover label.sk-toggleable__label-arrow:before {color: black;}#sk-container-id-1 div.sk-toggleable__content {max-height: 0;max-width: 0;overflow: hidden;text-align: left;background-color: #f0f8ff;}#sk-container-id-1 div.sk-toggleable__content pre {margin: 0.2em;color: black;border-radius: 0.25em;background-color: #f0f8ff;}#sk-container-id-1 input.sk-toggleable__control:checked~div.sk-toggleable__content {max-height: 200px;max-width: 100%;overflow: auto;}#sk-container-id-1 input.sk-toggleable__control:checked~label.sk-toggleable__label-arrow:before {content: \"▾\";}#sk-container-id-1 div.sk-estimator input.sk-toggleable__control:checked~label.sk-toggleable__label {background-color: #d4ebff;}#sk-container-id-1 div.sk-label input.sk-toggleable__control:checked~label.sk-toggleable__label {background-color: #d4ebff;}#sk-container-id-1 input.sk-hidden--visually {border: 0;clip: rect(1px 1px 1px 1px);clip: rect(1px, 1px, 1px, 1px);height: 1px;margin: -1px;overflow: hidden;padding: 0;position: absolute;width: 1px;}#sk-container-id-1 div.sk-estimator {font-family: monospace;background-color: #f0f8ff;border: 1px dotted black;border-radius: 0.25em;box-sizing: border-box;margin-bottom: 0.5em;}#sk-container-id-1 div.sk-estimator:hover {background-color: #d4ebff;}#sk-container-id-1 div.sk-parallel-item::after {content: \"\";width: 100%;border-bottom: 1px solid gray;flex-grow: 1;}#sk-container-id-1 div.sk-label:hover label.sk-toggleable__label {background-color: #d4ebff;}#sk-container-id-1 div.sk-serial::before {content: \"\";position: absolute;border-left: 1px solid gray;box-sizing: border-box;top: 0;bottom: 0;left: 50%;z-index: 0;}#sk-container-id-1 div.sk-serial {display: flex;flex-direction: column;align-items: center;background-color: white;padding-right: 0.2em;padding-left: 0.2em;position: relative;}#sk-container-id-1 div.sk-item {position: relative;z-index: 1;}#sk-container-id-1 div.sk-parallel {display: flex;align-items: stretch;justify-content: center;background-color: white;position: relative;}#sk-container-id-1 div.sk-item::before, #sk-container-id-1 div.sk-parallel-item::before {content: \"\";position: absolute;border-left: 1px solid gray;box-sizing: border-box;top: 0;bottom: 0;left: 50%;z-index: -1;}#sk-container-id-1 div.sk-parallel-item {display: flex;flex-direction: column;z-index: 1;position: relative;background-color: white;}#sk-container-id-1 div.sk-parallel-item:first-child::after {align-self: flex-end;width: 50%;}#sk-container-id-1 div.sk-parallel-item:last-child::after {align-self: flex-start;width: 50%;}#sk-container-id-1 div.sk-parallel-item:only-child::after {width: 0;}#sk-container-id-1 div.sk-dashed-wrapped {border: 1px dashed gray;margin: 0 0.4em 0.5em 0.4em;box-sizing: border-box;padding-bottom: 0.4em;background-color: white;}#sk-container-id-1 div.sk-label label {font-family: monospace;font-weight: bold;display: inline-block;line-height: 1.2em;}#sk-container-id-1 div.sk-label-container {text-align: center;}#sk-container-id-1 div.sk-container {/* jupyter's `normalize.less` sets `[hidden] { display: none; }` but bootstrap.min.css set `[hidden] { display: none !important; }` so we also need the `!important` here to be able to override the default hidden behavior on the sphinx rendered scikit-learn.org. See: https://github.com/scikit-learn/scikit-learn/issues/21755 */display: inline-block !important;position: relative;}#sk-container-id-1 div.sk-text-repr-fallback {display: none;}</style><div id=\"sk-container-id-1\" class=\"sk-top-container\"><div class=\"sk-text-repr-fallback\"><pre>MultinomialNB()</pre><b>In a Jupyter environment, please rerun this cell to show the HTML representation or trust the notebook. <br />On GitHub, the HTML representation is unable to render, please try loading this page with nbviewer.org.</b></div><div class=\"sk-container\" hidden><div class=\"sk-item\"><div class=\"sk-estimator sk-toggleable\"><input class=\"sk-toggleable__control sk-hidden--visually\" id=\"sk-estimator-id-1\" type=\"checkbox\" checked><label for=\"sk-estimator-id-1\" class=\"sk-toggleable__label sk-toggleable__label-arrow\">MultinomialNB</label><div class=\"sk-toggleable__content\"><pre>MultinomialNB()</pre></div></div></div></div></div>"
            ]
          },
          "metadata": {},
          "execution_count": 18
        }
      ],
      "source": [
        "# es muy fácil instanciar un modelo de clasificación Naïve Bayes y entrenarlo con sklearn\n",
        "clf = MultinomialNB()\n",
        "clf.fit(X_train, y_train)"
      ]
    },
    {
      "cell_type": "code",
      "execution_count": null,
      "metadata": {
        "id": "NrQjzM48Mu4T"
      },
      "outputs": [],
      "source": [
        "# con nuestro vectorizador ya fiteado en train, vectorizamos los textos\n",
        "# del conjunto de test\n",
        "X_test = tfidfvect.transform(newsgroups_test.data)\n",
        "y_test = newsgroups_test.target\n",
        "y_pred =  clf.predict(X_test)"
      ]
    },
    {
      "cell_type": "code",
      "execution_count": null,
      "metadata": {
        "colab": {
          "base_uri": "https://localhost:8080/"
        },
        "id": "UkGJhetEPdA4",
        "outputId": "eb02ec39-6191-4e33-8eb8-762f02bd5baa"
      },
      "outputs": [
        {
          "output_type": "execute_result",
          "data": {
            "text/plain": [
              "0.5854345727938506"
            ]
          },
          "metadata": {},
          "execution_count": 20
        }
      ],
      "source": [
        "# el F1-score es una metrica adecuada para reportar desempeño de modelos de claificación\n",
        "# es robusta al desbalance de clases. El promediado 'macro' es el promedio de los\n",
        "# F1-score de cada clase. El promedio 'micro' es equivalente a la accuracy que no\n",
        "# es una buena métrica cuando los datasets son desbalanceados\n",
        "f1_score(y_test, y_pred, average='macro')"
      ]
    },
    {
      "cell_type": "markdown",
      "metadata": {
        "id": "McArD4rSDR2K"
      },
      "source": [
        "## Desafío 1"
      ]
    },
    {
      "cell_type": "markdown",
      "source": [
        "#### **1.**\n",
        "**Vectorizar documentos. Tomar 5 documentos al azar y medir similaridad con el resto de los documentos. Estudiar los 5 documentos más similares de cada uno analizar si tiene sentido la similaridad según el contenido del texto y la etiqueta de clasificación.**\n"
      ],
      "metadata": {
        "id": "Axc259E9_cIK"
      }
    },
    {
      "cell_type": "code",
      "source": [
        "#Vectorizador TF-IDF\n",
        "#Filtro terminos que tienen más de 0.95 de frecuencia, que pueden ser términos que no aportan información\n",
        "#Y sirvió para mejorar el f1_score también\n",
        "tfidfvect_new = TfidfVectorizer(max_df = 0.95)"
      ],
      "metadata": {
        "id": "xLmY4hd5_iAT"
      },
      "execution_count": null,
      "outputs": []
    },
    {
      "cell_type": "code",
      "source": [
        "#Obtengo la matriz documento-termino con el vectorizador\n",
        "X_train_new = tfidfvect_new.fit_transform(newsgroups_train.data)"
      ],
      "metadata": {
        "id": "bHJ1Op_GAGQ_"
      },
      "execution_count": null,
      "outputs": []
    },
    {
      "cell_type": "code",
      "source": [
        "#Target de entrenamiento\n",
        "y_train_new = newsgroups_train.target"
      ],
      "metadata": {
        "id": "smhKWkHEAUIn"
      },
      "execution_count": null,
      "outputs": []
    },
    {
      "cell_type": "code",
      "source": [
        "#Indices de los 5 documentos que tomo al azar\n",
        "idx = [9206, 5301, 1, 8385, 9201]"
      ],
      "metadata": {
        "id": "Pn6-CxF0BITi"
      },
      "execution_count": null,
      "outputs": []
    },
    {
      "cell_type": "code",
      "source": [
        "#Muestro el texto y sus 5 mas similares según la similutd coseno\n",
        "#Muestro los primeros 500 caracteres de cada documento en el print\n",
        "for i in range(len(idx)):\n",
        "\n",
        "  #Print del documento elegido y su clase\n",
        "  print(\"_\" * 100)\n",
        "  print(\"_\" * 100)\n",
        "  print(f'Documento {idx[i]}')\n",
        "  print(\"-\" * 40)\n",
        "  print(newsgroups_train.data[idx[i]][:500]+ \" ...\")\n",
        "  print(\"-\" * 40)\n",
        "  print(f'Clase: {newsgroups_train.target_names[y_train_new[idx[i]]]}')\n",
        "\n",
        "  #Medición de similaridad coseno con todos los documentos\n",
        "  cossim = cosine_similarity(X_train_new[idx[i]], X_train_new)[0]\n",
        "\n",
        "  # los 5 documentos más similares:\n",
        "  mostsim = np.argsort(cossim)[::-1][1:6]\n",
        "\n",
        "  #Muestro los 5 documentos más similares y sus clases\n",
        "  print(\"-\" * 40)\n",
        "  print(f'Los 5 documentos más similares son:')\n",
        "  for i_sim in mostsim:\n",
        "    print(\"-\" * 40)\n",
        "    print(\"-\" * 40)\n",
        "    print(f'Documento {i_sim}')\n",
        "    print(\"-\" * 40)\n",
        "    print(newsgroups_train.data[i_sim][:500]+ \" ...\")\n",
        "    print(\"-\" * 40)\n",
        "    print(f'Similitud de coseno: {cossim[i_sim]:.4f}')\n",
        "    print(f'Clase: {newsgroups_train.target_names[y_train_new[i_sim]]}')"
      ],
      "metadata": {
        "colab": {
          "base_uri": "https://localhost:8080/"
        },
        "id": "F9fFluAih3mY",
        "outputId": "a864d350-b9af-4c35-c831-19b862ed1a5e"
      },
      "execution_count": null,
      "outputs": [
        {
          "output_type": "stream",
          "name": "stdout",
          "text": [
            "____________________________________________________________________________________________________\n",
            "____________________________________________________________________________________________________\n",
            "Documento 9206\n",
            "----------------------------------------\n",
            "I have a spare Fluke 8062A.  This is a true RMS digital meter with\n",
            "4.5 digit display.  It's in \"average\" condition (been used) but \n",
            "works fine - which is what Fluke's are all about.   BTW - according\n",
            "to the fellow who designed these meters, they can be converted to 8060A\n",
            "function by clipping a jumper, and adding the 2 extra switches..\n",
            "Like I said $115 seems fair - these sell for $300+ new.\n",
            "\n",
            " ...\n",
            "----------------------------------------\n",
            "Clase: sci.electronics\n",
            "----------------------------------------\n",
            "Los 5 documentos más similares son:\n",
            "----------------------------------------\n",
            "----------------------------------------\n",
            "Documento 948\n",
            "----------------------------------------\n",
            "I've had my Fluke 8060A here at work for just over 10 years now.\n",
            "It is a wonderful meter.  Several colleagues here have some of the\n",
            "newer Fluke meters, though I still would just as soon hang on to my\n",
            "8060.  The 8060 a is the 1980s digial \"analog\" to the Simpson 260\n",
            "analog DMM of the 1950-1960s.  There was/is (?) an 8060B that had\n",
            "extended frequency response.\n",
            "\n",
            "I've got a nifty little pen shaped meter made by Soar that I keep\n",
            "in my toolbox at home.  I've had that for six or seven years now\n",
            "and onl ...\n",
            "----------------------------------------\n",
            "Similitud de coseno: 0.1974\n",
            "Clase: sci.electronics\n",
            "----------------------------------------\n",
            "----------------------------------------\n",
            "Documento 6721\n",
            "----------------------------------------\n",
            "Has anybody out there used/tested these new Fluke Scopemeters?\n",
            "How do they compare to a low-end Tectronix oscilloscope? Are\n",
            "there any big drawbacks about these handheld scopes when\n",
            "compared to the benchtop scopes of the same price range\n",
            "($1000-$2000)?\n",
            "\n",
            "Any info on the Fluke Scopemeters would be greatly appreciated.\n",
            "\n",
            "Thanks, ...\n",
            "----------------------------------------\n",
            "Similitud de coseno: 0.1845\n",
            "Clase: sci.electronics\n",
            "----------------------------------------\n",
            "----------------------------------------\n",
            "Documento 4669\n",
            "----------------------------------------\n",
            ":      Hello, \n",
            ": \n",
            ":    Let me introduce a problem:\n",
            ": \n",
            ":    When I measure a sinusoidal wave (voltage) with a digital voltmeter, using \n",
            ": AC mode, my output is an rms value (a peak value over 2 squared). / Right? / \n",
            ":    When I measure a square wave in the same mode (AC), my output is equal \n",
            ": to a peak value, actually, to the upper flat boundary of the wave.\n",
            ":    I assumed, that a digital voltmeter makes some kind of integration of the \n",
            ": input value, and divides it over the wave period. / Right ...\n",
            "----------------------------------------\n",
            "Similitud de coseno: 0.1594\n",
            "Clase: sci.electronics\n",
            "----------------------------------------\n",
            "----------------------------------------\n",
            "Documento 9125\n",
            "----------------------------------------\n",
            "AllMartin EmdeDMM Advice Needed\n",
            "\n",
            "ME>From: mce5921@bcstec.ca.boeing.com (Martin Emde)\n",
            "ME>Organization: Boeing\n",
            "ME> \n",
            "ME>I an currely in the market for a DMM and recently saw an add\n",
            "ME>for a Kelvin 94 ($199).  Does anyone own one of these or some\n",
            "ME>other brand that they are extremely happy with.  How do the \n",
            "ME>small name brands compare with the Fluke and Beckman brands?\n",
            "ME>I am willing to spend ~$200 for one.\n",
            "ME> \n",
            "ME>Any help is greatly appreciated. (please email)\n",
            "ME> \n",
            "ME>-Martin\n",
            "\n",
            "If you are going ...\n",
            "----------------------------------------\n",
            "Similitud de coseno: 0.1442\n",
            "Clase: sci.electronics\n",
            "----------------------------------------\n",
            "----------------------------------------\n",
            "Documento 6386\n",
            "----------------------------------------\n",
            "I was recently loaned an older Dec 210 286 at work, and I have the option\n",
            "of adding an additional Western Digital Hard-drive to the machine.  The\n",
            "existing drive is currently a Western Digital as well, and is working fine,\n",
            "but I do not have any documentation available for configuring the master/slave\n",
            "relationship necessary for a c: d: drive setup.\n",
            "\n",
            "The first drive is currently formatted to Tandy Dos v3.3 but I am eventually\n",
            "going to upgrade both to MS Dos v 5.0\n",
            "\n",
            "The drives themselves are both mod ...\n",
            "----------------------------------------\n",
            "Similitud de coseno: 0.1420\n",
            "Clase: comp.sys.ibm.pc.hardware\n",
            "____________________________________________________________________________________________________\n",
            "____________________________________________________________________________________________________\n",
            "Documento 5301\n",
            "----------------------------------------\n",
            "\n",
            "\n",
            " | You certainly do not see OTC preparations advertised as such.\n",
            " | The only such ridiculous concoctions are nostrums for premenstrual\n",
            " | syndrome, ostensibly to treat headache and \"bloating\" simultaneously.\n",
            " | They're worthless.\n",
            "\n",
            "\n",
            " | That's not the idea, and no, they don't work.\n",
            "\n",
            "\tI *believe* there is a known synergism between certain\n",
            "analgesics and caffiene.  For treating pain, not inflammation.\n",
            "\n",
            "\tNow that I am an ibuprofen convert I haven't taken it for some\n",
            "time, but excedrin really works! ...\n",
            "----------------------------------------\n",
            "Clase: sci.med\n",
            "----------------------------------------\n",
            "Los 5 documentos más similares son:\n",
            "----------------------------------------\n",
            "----------------------------------------\n",
            "Documento 3959\n",
            "----------------------------------------\n",
            "\n",
            "You certainly do not see OTC preparations advertised as such.\n",
            "The only such ridiculous concoctions are nostrums for premenstrual\n",
            "syndrome, ostensibly to treat headache and \"bloating\" simultaneously.\n",
            "They're worthless.\n",
            "\n",
            "\n",
            "That's not the idea, and no, they don't work.\n",
            " ...\n",
            "----------------------------------------\n",
            "Similitud de coseno: 0.5579\n",
            "Clase: sci.med\n",
            "----------------------------------------\n",
            "----------------------------------------\n",
            "Documento 182\n",
            "----------------------------------------\n",
            "\n",
            "   Newsgroups: sci.med\n",
            "   Path: news.larc.nasa.gov!saimiri.primate.wisc.edu!zaphod.mps.ohio-state.edu!uwm.edu!cs.utexas.edu!uunet!think.com!hsdndev!spdcc!dyer\n",
            "   From: dyer@spdcc.com (Steve Dyer)\n",
            "   Organization: S.P. Dyer Computer Consulting, Cambridge MA\n",
            "   References: <20996.3049.uupcb@factory.com> <79727@cup.portal.com>\n",
            "   Date: Sat, 17 Apr 1993 18:43:05 GMT\n",
            "   Lines: 18\n",
            "\n",
            "   >I remember hearing a few years back about a new therapy for hyperactivity\n",
            "   >which involved aggressively eliminatin ...\n",
            "----------------------------------------\n",
            "Similitud de coseno: 0.3692\n",
            "Clase: sci.med\n",
            "----------------------------------------\n",
            "----------------------------------------\n",
            "Documento 9877\n",
            "----------------------------------------\n",
            " \n",
            " \n",
            " \n",
            "\n",
            "\n",
            "Steve Dyer points out that Sharen was probably thinking of Sulfites. But\n",
            "the question still stands. ...\n",
            "----------------------------------------\n",
            "Similitud de coseno: 0.1907\n",
            "Clase: sci.med\n",
            "----------------------------------------\n",
            "----------------------------------------\n",
            "Documento 10617\n",
            "----------------------------------------\n",
            "I noticed several years ago that when I took analgesics fairly regularly,\n",
            "(motrin at the time), I seemed to get a lot of migraines.  But had\n",
            "forgotten about that until I started reading some of the posts here.\n",
            "I generally don't take NSAIDS or Tylenol for headaches, because I've\n",
            "found them to be ineffective.  However, I have two other pain sources\n",
            "that force me to take NSAIDS (currently Naprosyn).  First, is some\n",
            "pelvic pain that I get at the beginning of my period, and then much\n",
            "worse at midcycl ...\n",
            "----------------------------------------\n",
            "Similitud de coseno: 0.1382\n",
            "Clase: sci.med\n",
            "----------------------------------------\n",
            "----------------------------------------\n",
            "Documento 4239\n",
            "----------------------------------------\n",
            "I sometimes see OTC preparations for muscle aches/back aches that\n",
            "combine aspirin with a diuretic. The idea seems to be to reduce\n",
            "inflammation by getting rid of fluid. Does this actually work?  ...\n",
            "----------------------------------------\n",
            "Similitud de coseno: 0.1239\n",
            "Clase: sci.med\n",
            "____________________________________________________________________________________________________\n",
            "____________________________________________________________________________________________________\n",
            "Documento 1\n",
            "----------------------------------------\n",
            "A fair number of brave souls who upgraded their SI clock oscillator have\n",
            "shared their experiences for this poll. Please send a brief message detailing\n",
            "your experiences with the procedure. Top speed attained, CPU rated speed,\n",
            "add on cards and adapters, heat sinks, hour of usage per day, floppy disk\n",
            "functionality with 800 and 1.4 m floppies are especially requested.\n",
            "\n",
            "I will be summarizing in the next two days, so please add to the network\n",
            "knowledge base if you have done the clock upgrade and haven ...\n",
            "----------------------------------------\n",
            "Clase: comp.sys.mac.hardware\n",
            "----------------------------------------\n",
            "Los 5 documentos más similares son:\n",
            "----------------------------------------\n",
            "----------------------------------------\n",
            "Documento 6399\n",
            "----------------------------------------\n",
            "I am continuing to collect user results to produce a more comprehensive\n",
            "report on IIsi clock oscillator upgrades. I you have attempted the modification\n",
            "please drop me a note with details of your experience. The more reports \n",
            "obtained, the more accurate the numbers I will generate.\n",
            "\n",
            "If possible, please include the following:\n",
            "  1) Top speed achieved\n",
            "  2) System configuration at top Mhz setting\n",
            "       a) speed rating of the CPU (the last two digits printed on CPU #)\n",
            "       b) presence of additional ...\n",
            "----------------------------------------\n",
            "Similitud de coseno: 0.3036\n",
            "Clase: comp.sys.mac.hardware\n",
            "----------------------------------------\n",
            "----------------------------------------\n",
            "Documento 9130\n",
            "----------------------------------------\n",
            "I have read one report of a brave soul who rewired the 40 mhz clock and a higher\n",
            "speed clock oscillator's outputs through a double throw switch to allow different\n",
            " speeds. There was no mention of any attempts to switch speeds on the fly but\n",
            "if the SI uses timing loops anything like a Quadra for accessing its floppy\n",
            "drive, dynamic switching will wreak havoc. A Quadra must reboot after having its\n",
            "clock speed significantly changed or it will be unable to properly access its\n",
            "floppy drive.\n",
            "\n",
            " ...\n",
            "----------------------------------------\n",
            "Similitud de coseno: 0.2250\n",
            "Clase: comp.sys.mac.hardware\n",
            "----------------------------------------\n",
            "----------------------------------------\n",
            "Documento 4693\n",
            "----------------------------------------\n",
            "After reading reports from Germany of success in accelerating a Quadra\n",
            "or Centris simply by changing the clock oscillator, I decided to test the\n",
            "claim. I pulled out my Variable Speed Overdrive and the motherboard's\n",
            "50 mhz clock chip. I put a socket in the clock's place and inserted a\n",
            "64 mhz TTL clock oscillator I had left over from working on some SI's.\n",
            "I can't believe it. It actually works. I'm not getting SCSI timing errors\n",
            "either. This is only after a short run time but I'll keep posting resu ...\n",
            "----------------------------------------\n",
            "Similitud de coseno: 0.2113\n",
            "Clase: comp.sys.mac.hardware\n",
            "----------------------------------------\n",
            "----------------------------------------\n",
            "Documento 1270\n",
            "----------------------------------------\n",
            "I've just completed a successful upgrade of a an SI to 27.5 mhz. I'm waiting\n",
            "on delivery of a 62 mhz clock for a final speed trial. Definitely needed the\n",
            "heatsink. The CPU was quite hot to the touch at higher speeds until I glued\n",
            "on a 90 cent Radio Shack sink. \n",
            "\n",
            "I made a call for reports of failures last week. No reports have arrived\n",
            "here. Locally, in Seattle there is a reported CPU damage due to the user\n",
            "slipping with the iron and putting a gash into the board -- not exactly\n",
            "a problem due to th ...\n",
            "----------------------------------------\n",
            "Similitud de coseno: 0.1984\n",
            "Clase: comp.sys.mac.hardware\n",
            "----------------------------------------\n",
            "----------------------------------------\n",
            "Documento 9921\n",
            "----------------------------------------\n",
            "dhk@ubbpc.uucp (Dave Kitabjian) writes ...\n",
            "\n",
            "040 486 030 386 020 286\n",
            "\n",
            "\n",
            "060 fastest, then Pentium, with the first versions of the PowerPC\n",
            "somewhere in the vicinity.\n",
            "\n",
            "\n",
            "No.  Computer speed is only partly dependent of processor/clock speed.\n",
            "Memory system speed play a large role as does video system speed and\n",
            "I/O speed.  As processor clock rates go up, the speed of the memory\n",
            "system becomes the greatest factor in the overall system speed.  If\n",
            "you have a 50MHz processor, it can be reading another word  ...\n",
            "----------------------------------------\n",
            "Similitud de coseno: 0.1798\n",
            "Clase: comp.sys.mac.hardware\n",
            "____________________________________________________________________________________________________\n",
            "____________________________________________________________________________________________________\n",
            "Documento 8385\n",
            "----------------------------------------\n",
            "\n",
            "\n",
            "I believe we still remember Masada, where Jews killed themselves rather\n",
            "than being captured by the Romans.  While I do not agree with the\n",
            "Davidians, I must admire their willingness to die for what they \n",
            "believed, which Jews have had to do often. ...\n",
            "----------------------------------------\n",
            "Clase: talk.politics.guns\n",
            "----------------------------------------\n",
            "Los 5 documentos más similares son:\n",
            "----------------------------------------\n",
            "----------------------------------------\n",
            "Documento 8224\n",
            "----------------------------------------\n",
            "From: Center for Policy Research <cpr>\n",
            "Subject: Symbiotics: Zionism-Antisemitism\n",
            "\n",
            "\n",
            "Zionism and the Holocaust\n",
            "-------------------------- by Haim Bresheeth\n",
            "\n",
            "The first point to note regarding the appropriation of the history\n",
            "of the Holocaust by Zionist propaganda is that Zionism without\n",
            "anti-semitism is impossible. Zionism agrees with the basic tenet\n",
            "of anti-Semitism, namely that Jews cannot live with non- Jews.\n",
            "\n",
            "The history and roots of the Holocaust go back a long way. While\n",
            "the industru of death ...\n",
            "----------------------------------------\n",
            "Similitud de coseno: 0.2444\n",
            "Clase: talk.politics.mideast\n",
            "----------------------------------------\n",
            "----------------------------------------\n",
            "Documento 6844\n",
            "----------------------------------------\n",
            "While one may question the motives of the Arabs who sold land to Jews,\n",
            "often while publicly criticizing the sale of land to Jews, it was the\n",
            "Jews and not the Arabs who were taken advantage of, as the prices the\n",
            "Jews paid for barren land was many times the price fertile land was\n",
            "being sold for in the United States at the same time. ...\n",
            "----------------------------------------\n",
            "Similitud de coseno: 0.2381\n",
            "Clase: talk.politics.mideast\n",
            "----------------------------------------\n",
            "----------------------------------------\n",
            "Documento 9752\n",
            "----------------------------------------\n",
            "\n",
            "A lot of people won't agree with me.  That's their right and I respect that.\n",
            "However, to the point, Jews are also covered by the saving grace of Jesus\n",
            "Christ.  There are Jews who have become Christians. ...\n",
            "----------------------------------------\n",
            "Similitud de coseno: 0.2321\n",
            "Clase: talk.religion.misc\n",
            "----------------------------------------\n",
            "----------------------------------------\n",
            "Documento 2188\n",
            "----------------------------------------\n",
            "\n",
            "\n",
            "\n",
            "Tell me, 'kmagnacca', were you high on 'Arromdian of ASALA/SDPA/ARF'\n",
            "when you wrote that? Humane behavior and tolerance of Turks was a\n",
            "legend even 500 years ago when they accepted tens of thousands of \n",
            "Jews from Spain who were fleeing from the Spanish Inquisition. Again, \n",
            "many Jewish families escaping from Nazi Armenians and Hitler's Nazi \n",
            "Germany took refugee in Turkiye during the 1940's. Turkish people\n",
            "have unselfishly given home, protection, and freedom to the Jews over \n",
            "the centuries, inc ...\n",
            "----------------------------------------\n",
            "Similitud de coseno: 0.2263\n",
            "Clase: talk.politics.mideast\n",
            "----------------------------------------\n",
            "----------------------------------------\n",
            "Documento 2194\n",
            "----------------------------------------\n",
            "\n",
            "   |> \n",
            "   |>    Final Solution for the Gaza ghetto ?\n",
            "   |>    ------------------------------------\n",
            "   |> \n",
            "   |>    While Israeli Jews fete the uprising of the Warsaw ghetto, they\n",
            "   |>    repress by violent means the uprising of the Gaza ghetto and\n",
            "   |>    attempt to starve the Gazans.\n",
            "   |> \n",
            "   |>    [...]\n",
            "   |> \n",
            "   |> The Jews in the Warsaw ghetto were fighting to keep themselves and\n",
            "   |> their families from being sent to Nazi gas chambers. Groups like Hamas\n",
            "   |> and the Islamic Jihad figh ...\n",
            "----------------------------------------\n",
            "Similitud de coseno: 0.2172\n",
            "Clase: talk.politics.mideast\n",
            "____________________________________________________________________________________________________\n",
            "____________________________________________________________________________________________________\n",
            "Documento 9201\n",
            "----------------------------------------\n",
            "\n",
            "There are definitely quite a few horrible deaths as the result of both\n",
            "atheists AND theists.  I'm sure Bobby can list quite a few for the atheist\n",
            "side but fails to recognize that the theists are equally proficient at\n",
            "genocide.  Perhaps, since I'm a bit weak on history, somone here would like\n",
            "to give a list of wars caused/led by theists?  I can think of a few (Hitler\n",
            "claimed to be a Christian for example) but a more complete list would\n",
            "probably be more effective in showing Bobby just how absurd  ...\n",
            "----------------------------------------\n",
            "Clase: alt.atheism\n",
            "----------------------------------------\n",
            "Los 5 documentos más similares son:\n",
            "----------------------------------------\n",
            "----------------------------------------\n",
            "Documento 5200\n",
            "----------------------------------------\n",
            "Archive-name: atheism/introduction\n",
            "Alt-atheism-archive-name: introduction\n",
            "Last-modified: 5 April 1993\n",
            "Version: 1.2\n",
            "\n",
            "-----BEGIN PGP SIGNED MESSAGE-----\n",
            "\n",
            "                          An Introduction to Atheism\n",
            "                       by mathew <mathew@mantis.co.uk>\n",
            "\n",
            "This article attempts to provide a general introduction to atheism.  Whilst I\n",
            "have tried to be as neutral as possible regarding contentious issues, you\n",
            "should always remember that this document represents only one viewpoint.  I\n",
            "would encou ...\n",
            "----------------------------------------\n",
            "Similitud de coseno: 0.2972\n",
            "Clase: alt.atheism\n",
            "----------------------------------------\n",
            "----------------------------------------\n",
            "Documento 4130\n",
            "----------------------------------------\n",
            "  \n",
            "Cool quote.\n",
            "\n",
            "\n",
            "Better watch it.  The theists will jump on you for that... :-)\n",
            "\n",
            "\n",
            "Nanci ...\n",
            "----------------------------------------\n",
            "Similitud de coseno: 0.2831\n",
            "Clase: alt.atheism\n",
            "----------------------------------------\n",
            "----------------------------------------\n",
            "Documento 10836\n",
            "----------------------------------------\n",
            "Archive-name: atheism/faq\n",
            "Alt-atheism-archive-name: faq\n",
            "Last-modified: 5 April 1993\n",
            "Version: 1.1\n",
            "\n",
            "                    Alt.Atheism Frequently-Asked Questions\n",
            "\n",
            "This file contains responses to articles which occur repeatedly in\n",
            "alt.atheism.  Points covered here are ones which are not covered in the\n",
            "\"Introduction to Atheism\"; you are advised to read that article as well\n",
            "before posting.\n",
            "\n",
            "These answers are not intended to be exhaustive or definitive. The purpose of\n",
            "the periodic FAQ postings is not to  ...\n",
            "----------------------------------------\n",
            "Similitud de coseno: 0.2451\n",
            "Clase: alt.atheism\n",
            "----------------------------------------\n",
            "----------------------------------------\n",
            "Documento 8795\n",
            "----------------------------------------\n",
            "[why are atheists atheists/ believes it could be the result of\n",
            "\"brokenness\"]\n",
            "\n",
            "\n",
            "i agree -- if you are going to find out anything from people who don't\n",
            "share your beliefs, do not attack them or condescend to them and hope\n",
            "to get a neutral picture of them.  come to them with an open mind.\n",
            "\n",
            "\n",
            "well, you do believe in something, as i see it, even if it is a sort\n",
            "of \"anti-belief\" (no negative connotation meant; i mean simply that\n",
            "you believe that God _does not_ exist).  christians can also feel that\n",
            "sen ...\n",
            "----------------------------------------\n",
            "Similitud de coseno: 0.2232\n",
            "Clase: soc.religion.christian\n",
            "----------------------------------------\n",
            "----------------------------------------\n",
            "Documento 3861\n",
            "----------------------------------------\n",
            ": \n",
            "[ . . . . . ]\n",
            ":\n",
            ": Personally, I feel that since religion have such a poweful\n",
            ": psychological effect, we should let theists be.  But the problem is that\n",
            ": religions cause enormous harm to non-believers and to humanity as a whole\n",
            ": (holy wars, inquisitions, inter-religious hatred, impedence of science\n",
            ": & intellectual progress, us-&-them attitudes etc etc.  Need I say more?).\n",
            ": I really don't know what we can do about them.  Any comments?\n",
            ": \n",
            "\n",
            "  I have always held that there should be no attempt ...\n",
            "----------------------------------------\n",
            "Similitud de coseno: 0.2143\n",
            "Clase: alt.atheism\n"
          ]
        }
      ]
    },
    {
      "cell_type": "markdown",
      "source": [
        "Como resultado vemos que para los 5 documentos tomados al azar que eran de diferentes clases entre sí, en todos los casos la similitud coseno funcionó correctamente para encontrar documentos que estuvieran en la misma clase que el documento a evaluar o en clases relativamente cercanas como por ejemplo las clases *sci.electronics* con *comp.sys.ibm.pc.hardware*"
      ],
      "metadata": {
        "id": "PmdfuMaVLHLN"
      }
    },
    {
      "cell_type": "markdown",
      "source": [
        "#### **2.**  \n",
        "**Entrenar modelos de clasificación Naïve Bayes para maximizar el desempeño de clasificación (f1-score macro) en el conjunto de datos de test. Considerar cambiar parámteros de instanciación del vectorizador y los modelos y probar modelos de Naïve Bayes Multinomial y ComplementNB.**\n"
      ],
      "metadata": {
        "id": "Rx_-cTrU6hPN"
      }
    },
    {
      "cell_type": "markdown",
      "source": [
        "##### Modelo MultinomialNB"
      ],
      "metadata": {
        "id": "saP37petLFL-"
      }
    },
    {
      "cell_type": "code",
      "source": [
        "clf_multi_new = MultinomialNB(alpha=0.01)\n",
        "clf_multi_new.fit(X_train_new, y_train_new)"
      ],
      "metadata": {
        "colab": {
          "base_uri": "https://localhost:8080/",
          "height": 74
        },
        "id": "CifYrZCC6jiU",
        "outputId": "5e9ed131-f567-496b-eb5b-390ab035ae31"
      },
      "execution_count": null,
      "outputs": [
        {
          "output_type": "execute_result",
          "data": {
            "text/plain": [
              "MultinomialNB(alpha=0.01)"
            ],
            "text/html": [
              "<style>#sk-container-id-2 {color: black;}#sk-container-id-2 pre{padding: 0;}#sk-container-id-2 div.sk-toggleable {background-color: white;}#sk-container-id-2 label.sk-toggleable__label {cursor: pointer;display: block;width: 100%;margin-bottom: 0;padding: 0.3em;box-sizing: border-box;text-align: center;}#sk-container-id-2 label.sk-toggleable__label-arrow:before {content: \"▸\";float: left;margin-right: 0.25em;color: #696969;}#sk-container-id-2 label.sk-toggleable__label-arrow:hover:before {color: black;}#sk-container-id-2 div.sk-estimator:hover label.sk-toggleable__label-arrow:before {color: black;}#sk-container-id-2 div.sk-toggleable__content {max-height: 0;max-width: 0;overflow: hidden;text-align: left;background-color: #f0f8ff;}#sk-container-id-2 div.sk-toggleable__content pre {margin: 0.2em;color: black;border-radius: 0.25em;background-color: #f0f8ff;}#sk-container-id-2 input.sk-toggleable__control:checked~div.sk-toggleable__content {max-height: 200px;max-width: 100%;overflow: auto;}#sk-container-id-2 input.sk-toggleable__control:checked~label.sk-toggleable__label-arrow:before {content: \"▾\";}#sk-container-id-2 div.sk-estimator input.sk-toggleable__control:checked~label.sk-toggleable__label {background-color: #d4ebff;}#sk-container-id-2 div.sk-label input.sk-toggleable__control:checked~label.sk-toggleable__label {background-color: #d4ebff;}#sk-container-id-2 input.sk-hidden--visually {border: 0;clip: rect(1px 1px 1px 1px);clip: rect(1px, 1px, 1px, 1px);height: 1px;margin: -1px;overflow: hidden;padding: 0;position: absolute;width: 1px;}#sk-container-id-2 div.sk-estimator {font-family: monospace;background-color: #f0f8ff;border: 1px dotted black;border-radius: 0.25em;box-sizing: border-box;margin-bottom: 0.5em;}#sk-container-id-2 div.sk-estimator:hover {background-color: #d4ebff;}#sk-container-id-2 div.sk-parallel-item::after {content: \"\";width: 100%;border-bottom: 1px solid gray;flex-grow: 1;}#sk-container-id-2 div.sk-label:hover label.sk-toggleable__label {background-color: #d4ebff;}#sk-container-id-2 div.sk-serial::before {content: \"\";position: absolute;border-left: 1px solid gray;box-sizing: border-box;top: 0;bottom: 0;left: 50%;z-index: 0;}#sk-container-id-2 div.sk-serial {display: flex;flex-direction: column;align-items: center;background-color: white;padding-right: 0.2em;padding-left: 0.2em;position: relative;}#sk-container-id-2 div.sk-item {position: relative;z-index: 1;}#sk-container-id-2 div.sk-parallel {display: flex;align-items: stretch;justify-content: center;background-color: white;position: relative;}#sk-container-id-2 div.sk-item::before, #sk-container-id-2 div.sk-parallel-item::before {content: \"\";position: absolute;border-left: 1px solid gray;box-sizing: border-box;top: 0;bottom: 0;left: 50%;z-index: -1;}#sk-container-id-2 div.sk-parallel-item {display: flex;flex-direction: column;z-index: 1;position: relative;background-color: white;}#sk-container-id-2 div.sk-parallel-item:first-child::after {align-self: flex-end;width: 50%;}#sk-container-id-2 div.sk-parallel-item:last-child::after {align-self: flex-start;width: 50%;}#sk-container-id-2 div.sk-parallel-item:only-child::after {width: 0;}#sk-container-id-2 div.sk-dashed-wrapped {border: 1px dashed gray;margin: 0 0.4em 0.5em 0.4em;box-sizing: border-box;padding-bottom: 0.4em;background-color: white;}#sk-container-id-2 div.sk-label label {font-family: monospace;font-weight: bold;display: inline-block;line-height: 1.2em;}#sk-container-id-2 div.sk-label-container {text-align: center;}#sk-container-id-2 div.sk-container {/* jupyter's `normalize.less` sets `[hidden] { display: none; }` but bootstrap.min.css set `[hidden] { display: none !important; }` so we also need the `!important` here to be able to override the default hidden behavior on the sphinx rendered scikit-learn.org. See: https://github.com/scikit-learn/scikit-learn/issues/21755 */display: inline-block !important;position: relative;}#sk-container-id-2 div.sk-text-repr-fallback {display: none;}</style><div id=\"sk-container-id-2\" class=\"sk-top-container\"><div class=\"sk-text-repr-fallback\"><pre>MultinomialNB(alpha=0.01)</pre><b>In a Jupyter environment, please rerun this cell to show the HTML representation or trust the notebook. <br />On GitHub, the HTML representation is unable to render, please try loading this page with nbviewer.org.</b></div><div class=\"sk-container\" hidden><div class=\"sk-item\"><div class=\"sk-estimator sk-toggleable\"><input class=\"sk-toggleable__control sk-hidden--visually\" id=\"sk-estimator-id-2\" type=\"checkbox\" checked><label for=\"sk-estimator-id-2\" class=\"sk-toggleable__label sk-toggleable__label-arrow\">MultinomialNB</label><div class=\"sk-toggleable__content\"><pre>MultinomialNB(alpha=0.01)</pre></div></div></div></div></div>"
            ]
          },
          "metadata": {},
          "execution_count": 26
        }
      ]
    },
    {
      "cell_type": "code",
      "source": [
        "X_test_m = tfidfvect_new.transform(newsgroups_test.data)\n",
        "y_test_m = newsgroups_test.target\n",
        "y_pred_m =  clf_multi_new.predict(X_test_m)"
      ],
      "metadata": {
        "id": "LW-8LX746t5N"
      },
      "execution_count": null,
      "outputs": []
    },
    {
      "cell_type": "code",
      "source": [
        "f1 = f1_score(y_test_m, y_pred_m, average='macro')\n",
        "print(f'El valor de f1 score obtenido para MultinomialNB es {f1}')"
      ],
      "metadata": {
        "colab": {
          "base_uri": "https://localhost:8080/"
        },
        "id": "3kqka8xi64DQ",
        "outputId": "cedd44ae-67bb-44d8-bc00-3713b70edcd2"
      },
      "execution_count": null,
      "outputs": [
        {
          "output_type": "stream",
          "name": "stdout",
          "text": [
            "El valor de f1 score obtenido para MultinomialNB es 0.682861129525057\n"
          ]
        }
      ]
    },
    {
      "cell_type": "markdown",
      "source": [
        "##### Modelo ComplementNB"
      ],
      "metadata": {
        "id": "SM4jhIo6LI0A"
      }
    },
    {
      "cell_type": "code",
      "source": [
        "clf_compl_new = ComplementNB(alpha=0.3)\n",
        "clf_compl_new.fit(X_train_new, y_train_new)"
      ],
      "metadata": {
        "colab": {
          "base_uri": "https://localhost:8080/",
          "height": 74
        },
        "id": "pGCjGYNdLZFl",
        "outputId": "a2f0a2ab-5d78-4217-f590-3a2e7ab725d5"
      },
      "execution_count": null,
      "outputs": [
        {
          "output_type": "execute_result",
          "data": {
            "text/plain": [
              "ComplementNB(alpha=0.3)"
            ],
            "text/html": [
              "<style>#sk-container-id-3 {color: black;}#sk-container-id-3 pre{padding: 0;}#sk-container-id-3 div.sk-toggleable {background-color: white;}#sk-container-id-3 label.sk-toggleable__label {cursor: pointer;display: block;width: 100%;margin-bottom: 0;padding: 0.3em;box-sizing: border-box;text-align: center;}#sk-container-id-3 label.sk-toggleable__label-arrow:before {content: \"▸\";float: left;margin-right: 0.25em;color: #696969;}#sk-container-id-3 label.sk-toggleable__label-arrow:hover:before {color: black;}#sk-container-id-3 div.sk-estimator:hover label.sk-toggleable__label-arrow:before {color: black;}#sk-container-id-3 div.sk-toggleable__content {max-height: 0;max-width: 0;overflow: hidden;text-align: left;background-color: #f0f8ff;}#sk-container-id-3 div.sk-toggleable__content pre {margin: 0.2em;color: black;border-radius: 0.25em;background-color: #f0f8ff;}#sk-container-id-3 input.sk-toggleable__control:checked~div.sk-toggleable__content {max-height: 200px;max-width: 100%;overflow: auto;}#sk-container-id-3 input.sk-toggleable__control:checked~label.sk-toggleable__label-arrow:before {content: \"▾\";}#sk-container-id-3 div.sk-estimator input.sk-toggleable__control:checked~label.sk-toggleable__label {background-color: #d4ebff;}#sk-container-id-3 div.sk-label input.sk-toggleable__control:checked~label.sk-toggleable__label {background-color: #d4ebff;}#sk-container-id-3 input.sk-hidden--visually {border: 0;clip: rect(1px 1px 1px 1px);clip: rect(1px, 1px, 1px, 1px);height: 1px;margin: -1px;overflow: hidden;padding: 0;position: absolute;width: 1px;}#sk-container-id-3 div.sk-estimator {font-family: monospace;background-color: #f0f8ff;border: 1px dotted black;border-radius: 0.25em;box-sizing: border-box;margin-bottom: 0.5em;}#sk-container-id-3 div.sk-estimator:hover {background-color: #d4ebff;}#sk-container-id-3 div.sk-parallel-item::after {content: \"\";width: 100%;border-bottom: 1px solid gray;flex-grow: 1;}#sk-container-id-3 div.sk-label:hover label.sk-toggleable__label {background-color: #d4ebff;}#sk-container-id-3 div.sk-serial::before {content: \"\";position: absolute;border-left: 1px solid gray;box-sizing: border-box;top: 0;bottom: 0;left: 50%;z-index: 0;}#sk-container-id-3 div.sk-serial {display: flex;flex-direction: column;align-items: center;background-color: white;padding-right: 0.2em;padding-left: 0.2em;position: relative;}#sk-container-id-3 div.sk-item {position: relative;z-index: 1;}#sk-container-id-3 div.sk-parallel {display: flex;align-items: stretch;justify-content: center;background-color: white;position: relative;}#sk-container-id-3 div.sk-item::before, #sk-container-id-3 div.sk-parallel-item::before {content: \"\";position: absolute;border-left: 1px solid gray;box-sizing: border-box;top: 0;bottom: 0;left: 50%;z-index: -1;}#sk-container-id-3 div.sk-parallel-item {display: flex;flex-direction: column;z-index: 1;position: relative;background-color: white;}#sk-container-id-3 div.sk-parallel-item:first-child::after {align-self: flex-end;width: 50%;}#sk-container-id-3 div.sk-parallel-item:last-child::after {align-self: flex-start;width: 50%;}#sk-container-id-3 div.sk-parallel-item:only-child::after {width: 0;}#sk-container-id-3 div.sk-dashed-wrapped {border: 1px dashed gray;margin: 0 0.4em 0.5em 0.4em;box-sizing: border-box;padding-bottom: 0.4em;background-color: white;}#sk-container-id-3 div.sk-label label {font-family: monospace;font-weight: bold;display: inline-block;line-height: 1.2em;}#sk-container-id-3 div.sk-label-container {text-align: center;}#sk-container-id-3 div.sk-container {/* jupyter's `normalize.less` sets `[hidden] { display: none; }` but bootstrap.min.css set `[hidden] { display: none !important; }` so we also need the `!important` here to be able to override the default hidden behavior on the sphinx rendered scikit-learn.org. See: https://github.com/scikit-learn/scikit-learn/issues/21755 */display: inline-block !important;position: relative;}#sk-container-id-3 div.sk-text-repr-fallback {display: none;}</style><div id=\"sk-container-id-3\" class=\"sk-top-container\"><div class=\"sk-text-repr-fallback\"><pre>ComplementNB(alpha=0.3)</pre><b>In a Jupyter environment, please rerun this cell to show the HTML representation or trust the notebook. <br />On GitHub, the HTML representation is unable to render, please try loading this page with nbviewer.org.</b></div><div class=\"sk-container\" hidden><div class=\"sk-item\"><div class=\"sk-estimator sk-toggleable\"><input class=\"sk-toggleable__control sk-hidden--visually\" id=\"sk-estimator-id-3\" type=\"checkbox\" checked><label for=\"sk-estimator-id-3\" class=\"sk-toggleable__label sk-toggleable__label-arrow\">ComplementNB</label><div class=\"sk-toggleable__content\"><pre>ComplementNB(alpha=0.3)</pre></div></div></div></div></div>"
            ]
          },
          "metadata": {},
          "execution_count": 29
        }
      ]
    },
    {
      "cell_type": "code",
      "source": [
        "X_test_c = tfidfvect_new.transform(newsgroups_test.data)\n",
        "y_test_c = newsgroups_test.target\n",
        "y_pred_c =  clf_compl_new.predict(X_test_c)"
      ],
      "metadata": {
        "id": "5V2wIqANLjg8"
      },
      "execution_count": null,
      "outputs": []
    },
    {
      "cell_type": "code",
      "source": [
        "f1 = f1_score(y_test_c, y_pred_c, average='macro')\n",
        "print(f'El valor de f1 score obtenido para MultinomialNB es {f1}')"
      ],
      "metadata": {
        "colab": {
          "base_uri": "https://localhost:8080/"
        },
        "id": "kwQqk0Z0LlOr",
        "outputId": "c015c2f8-ad25-49d2-de87-d40c8043068e"
      },
      "execution_count": null,
      "outputs": [
        {
          "output_type": "stream",
          "name": "stdout",
          "text": [
            "El valor de f1 score obtenido para MultinomialNB es 0.6999368058272992\n"
          ]
        }
      ]
    },
    {
      "cell_type": "markdown",
      "source": [
        "Se entrenron los dos modelos propuestos de NB, en ambos el hiperparámetro que mejoró el f1-score con el vectorizador propuesto, fue la variación del alpha. En ambos casos bajar el valor del alpha, es decir del smoothing para evitar que las clases sean 0. Eso puede deberse a que al tener suficientes datos de forma de que la probabildad de que en el set de entrenamiento se encuentren todas las clases es alta; con un bajo valor de alpha no altero o penalizo las probabilidades de cada carecterstica"
      ],
      "metadata": {
        "id": "u4zRA8govLIH"
      }
    },
    {
      "cell_type": "markdown",
      "source": [
        "#### **3**.\n",
        "Transponer la matriz documento-término. De esa manera se obtiene una matriz\n",
        "término-documento que puede ser interpretada como una colección de vectorización de palabras.\n",
        "Estudiar ahora similaridad entre palabras tomando 5 palabras y estudiando sus 5 más similares. **La elección de palabras no debe ser al azar para evitar la aparición de términos poco interpretables, elegirlas \"manualmente\"**.\n"
      ],
      "metadata": {
        "id": "H-Z2lNPcRLmT"
      }
    },
    {
      "cell_type": "code",
      "source": [
        "# Obtengo la matriz termino-documento como la traspuesta de la matriz documento-termino\n",
        "mat_doc_ter = X_train_new.toarray()\n",
        "mat_ter_doc = mat_doc_ter.T"
      ],
      "metadata": {
        "id": "9GSl-bsIROWp"
      },
      "execution_count": null,
      "outputs": []
    },
    {
      "cell_type": "code",
      "source": [
        "idx2word_new = {v: k for k,v in tfidfvect_new.vocabulary_.items()}"
      ],
      "metadata": {
        "id": "F1vhPFMJx_-K"
      },
      "execution_count": null,
      "outputs": []
    },
    {
      "cell_type": "code",
      "source": [
        "# Palabras a evaluar\n",
        "palabras = ['germany','religion','sport','computer','board']\n",
        "\n",
        "for palabra in palabras:\n",
        "  print(\"_\" * 100)\n",
        "  print(f'Palabra: {palabra}')\n",
        "  if palabra in tfidfvect_new.vocabulary_:\n",
        "    # Indice de la palabra\n",
        "    indice = tfidfvect_new.vocabulary_[palabra]\n",
        "\n",
        "    # vector de la matriz correspondiente a ese término\n",
        "    vector_palabra = mat_ter_doc[indice,:].reshape(1,-1)\n",
        "\n",
        "    #Similutd coseno de la palabra con las otros vectores de palabra\n",
        "    cossim = cosine_similarity(vector_palabra, mat_ter_doc)[0]\n",
        "    mostsim = np.argsort(cossim)[::-1][1:6]\n",
        "\n",
        "    print('Las 5 palabras más similares son:')\n",
        "    for i in mostsim:\n",
        "      similar_palabra = idx2word_new[i]\n",
        "      print(f\"\\tPalabra: {similar_palabra}, Similitud: {cossim[i]:.4f}\")\n",
        "\n",
        "  else:\n",
        "    print(f\"La palabra {palabra} no se encuentra en el vocabulario\")"
      ],
      "metadata": {
        "colab": {
          "base_uri": "https://localhost:8080/"
        },
        "id": "FT_uvGE5WaKN",
        "outputId": "5146eb98-8818-45e2-cfe7-d3bb09dbbff7"
      },
      "execution_count": null,
      "outputs": [
        {
          "output_type": "stream",
          "name": "stdout",
          "text": [
            "____________________________________________________________________________________________________\n",
            "Palabra: germany\n",
            "Las 5 palabras más similares son:\n",
            "\tPalabra: landshut, Similitud: 0.3093\n",
            "\tPalabra: hedos, Similitud: 0.3093\n",
            "\tPalabra: probul, Similitud: 0.2901\n",
            "\tPalabra: probulf, Similitud: 0.2901\n",
            "\tPalabra: emanuelstr, Similitud: 0.2901\n",
            "____________________________________________________________________________________________________\n",
            "Palabra: religion\n",
            "Las 5 palabras más similares son:\n",
            "\tPalabra: religious, Similitud: 0.2451\n",
            "\tPalabra: religions, Similitud: 0.2116\n",
            "\tPalabra: categorized, Similitud: 0.2039\n",
            "\tPalabra: purpsoe, Similitud: 0.2008\n",
            "\tPalabra: crusades, Similitud: 0.1987\n",
            "____________________________________________________________________________________________________\n",
            "Palabra: sport\n",
            "Las 5 palabras más similares son:\n",
            "\tPalabra: woops, Similitud: 0.4388\n",
            "\tPalabra: pigeonhole, Similitud: 0.2921\n",
            "\tPalabra: rec, Similitud: 0.2700\n",
            "\tPalabra: golf, Similitud: 0.2418\n",
            "\tPalabra: fj1200, Similitud: 0.2363\n",
            "____________________________________________________________________________________________________\n",
            "Palabra: computer\n",
            "Las 5 palabras más similares son:\n",
            "\tPalabra: decwriter, Similitud: 0.1563\n",
            "\tPalabra: harkens, Similitud: 0.1522\n",
            "\tPalabra: deluged, Similitud: 0.1522\n",
            "\tPalabra: shopper, Similitud: 0.1443\n",
            "\tPalabra: the, Similitud: 0.1361\n",
            "____________________________________________________________________________________________________\n",
            "Palabra: board\n",
            "Las 5 palabras más similares son:\n",
            "\tPalabra: autodoubler, Similitud: 0.2926\n",
            "\tPalabra: diskdoubler, Similitud: 0.2437\n",
            "\tPalabra: stinky, Similitud: 0.2437\n",
            "\tPalabra: recompress, Similitud: 0.2432\n",
            "\tPalabra: stac, Similitud: 0.2177\n"
          ]
        }
      ]
    },
    {
      "cell_type": "markdown",
      "source": [
        "En este caso veo que es más dificil que encuentre palabras similares salvo casos muy específicos como es el caso de \"religion\"; pero puede deberse a la amplia gama de documentos y temas, donde puede que esa palabra no haya tenido tanta frecuencia en los documentos y puede que un vector de una palabra se relacione a otros términos que hayan aparecido cerca y la similitud coseno no va a ser tan epecífica"
      ],
      "metadata": {
        "id": "dj6mJArl4mGU"
      }
    }
  ],
  "metadata": {
    "colab": {
      "provenance": [],
      "toc_visible": true,
      "collapsed_sections": [
        "WvpwCJ2w-X7N"
      ]
    },
    "kernelspec": {
      "display_name": "Python 3",
      "name": "python3"
    },
    "language_info": {
      "name": "python"
    }
  },
  "nbformat": 4,
  "nbformat_minor": 0
}