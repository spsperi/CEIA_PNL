{
  "cells": [
    {
      "cell_type": "markdown",
      "metadata": {
        "id": "sZd5yLnnHOK0"
      },
      "source": [
        "# DESAFIO 2 PNL\n",
        "# Procesamiento de lenguaje natural\n",
        "## Custom embedddings con Gensim\n",
        "\n",
        "Alumna: Sofia Speri\n",
        "\n",
        "Objetivo:\n",
        "- Crear sus propios vectores con Gensim basado en lo visto en clase con otro dataset.\n",
        "- Probar términos de interés y explicar similitudes en el espacio de embeddings (sacar conclusiones entre palabras similitudes y diferencias).\n",
        "- Graficarlos.\n",
        "- Obtener conclusiones.\n",
        "\n"
      ]
    },
    {
      "cell_type": "markdown",
      "metadata": {
        "id": "vA7nqkumo9z9"
      },
      "source": [
        "### Librerías\n"
      ]
    },
    {
      "cell_type": "code",
      "execution_count": 1,
      "metadata": {
        "id": "lFToQs5FK5uZ"
      },
      "outputs": [],
      "source": [
        "import pandas as pd\n",
        "import matplotlib.pyplot as plt\n",
        "import seaborn as sns\n",
        "\n",
        "import multiprocessing\n",
        "from gensim.models import Word2Vec\n",
        "\n",
        "import os\n",
        "import platform"
      ]
    },
    {
      "cell_type": "markdown",
      "metadata": {
        "id": "g07zJxG7H9vG"
      },
      "source": [
        "### Dataset\n",
        "Voy a utilizar dataset sobre FAQ's medical question-answer pairs created from 12 NIH websites (e.g. cancer.gov, niddk.nih.gov, GARD, MedlinePlus Health Topics). Fuente: https://www.kaggle.com/datasets/jpmiller/layoutlm\n",
        "\n",
        "Del dataset tomé un grupo de preguntas y respuestas y las junté en un sólo archivo con formato txt para este trabajo."
      ]
    },
    {
      "cell_type": "code",
      "source": [
        "df = pd.read_csv('/content/cancer_faqs.txt', sep='/n', header=None)\n",
        "df.head()"
      ],
      "metadata": {
        "colab": {
          "base_uri": "https://localhost:8080/",
          "height": 261
        },
        "id": "4cXkcPQySe74",
        "outputId": "9f63e8a7-f670-4d63-de7c-1fdee66a04b9"
      },
      "execution_count": 2,
      "outputs": [
        {
          "output_type": "stream",
          "name": "stderr",
          "text": [
            "<ipython-input-2-091af6ed99d1>:1: ParserWarning: Falling back to the 'python' engine because the 'c' engine does not support regex separators (separators > 1 char and different from '\\s+' are interpreted as regex); you can avoid this warning by specifying engine='python'.\n",
            "  df = pd.read_csv('/content/cancer_faqs.txt', sep='/n', header=None)\n"
          ]
        },
        {
          "output_type": "execute_result",
          "data": {
            "text/plain": [
              "                                                   0\n",
              "0         What is are Adult Acute Myeloid Leukemia ?\n",
              "1  - Adult acute myeloid leukemia (AML) is a type...\n",
              "2  Who is at risk for Adult Acute Myeloid Leukemi...\n",
              "3  Smoking, previous chemotherapy treatment, and ...\n",
              "4  What are the symptoms of Adult Acute Myeloid L..."
            ],
            "text/html": [
              "\n",
              "  <div id=\"df-7791a281-4583-4802-b0ae-fd8b772efb23\" class=\"colab-df-container\">\n",
              "    <div>\n",
              "<style scoped>\n",
              "    .dataframe tbody tr th:only-of-type {\n",
              "        vertical-align: middle;\n",
              "    }\n",
              "\n",
              "    .dataframe tbody tr th {\n",
              "        vertical-align: top;\n",
              "    }\n",
              "\n",
              "    .dataframe thead th {\n",
              "        text-align: right;\n",
              "    }\n",
              "</style>\n",
              "<table border=\"1\" class=\"dataframe\">\n",
              "  <thead>\n",
              "    <tr style=\"text-align: right;\">\n",
              "      <th></th>\n",
              "      <th>0</th>\n",
              "    </tr>\n",
              "  </thead>\n",
              "  <tbody>\n",
              "    <tr>\n",
              "      <th>0</th>\n",
              "      <td>What is are Adult Acute Myeloid Leukemia ?</td>\n",
              "    </tr>\n",
              "    <tr>\n",
              "      <th>1</th>\n",
              "      <td>- Adult acute myeloid leukemia (AML) is a type...</td>\n",
              "    </tr>\n",
              "    <tr>\n",
              "      <th>2</th>\n",
              "      <td>Who is at risk for Adult Acute Myeloid Leukemi...</td>\n",
              "    </tr>\n",
              "    <tr>\n",
              "      <th>3</th>\n",
              "      <td>Smoking, previous chemotherapy treatment, and ...</td>\n",
              "    </tr>\n",
              "    <tr>\n",
              "      <th>4</th>\n",
              "      <td>What are the symptoms of Adult Acute Myeloid L...</td>\n",
              "    </tr>\n",
              "  </tbody>\n",
              "</table>\n",
              "</div>\n",
              "    <div class=\"colab-df-buttons\">\n",
              "\n",
              "  <div class=\"colab-df-container\">\n",
              "    <button class=\"colab-df-convert\" onclick=\"convertToInteractive('df-7791a281-4583-4802-b0ae-fd8b772efb23')\"\n",
              "            title=\"Convert this dataframe to an interactive table.\"\n",
              "            style=\"display:none;\">\n",
              "\n",
              "  <svg xmlns=\"http://www.w3.org/2000/svg\" height=\"24px\" viewBox=\"0 -960 960 960\">\n",
              "    <path d=\"M120-120v-720h720v720H120Zm60-500h600v-160H180v160Zm220 220h160v-160H400v160Zm0 220h160v-160H400v160ZM180-400h160v-160H180v160Zm440 0h160v-160H620v160ZM180-180h160v-160H180v160Zm440 0h160v-160H620v160Z\"/>\n",
              "  </svg>\n",
              "    </button>\n",
              "\n",
              "  <style>\n",
              "    .colab-df-container {\n",
              "      display:flex;\n",
              "      gap: 12px;\n",
              "    }\n",
              "\n",
              "    .colab-df-convert {\n",
              "      background-color: #E8F0FE;\n",
              "      border: none;\n",
              "      border-radius: 50%;\n",
              "      cursor: pointer;\n",
              "      display: none;\n",
              "      fill: #1967D2;\n",
              "      height: 32px;\n",
              "      padding: 0 0 0 0;\n",
              "      width: 32px;\n",
              "    }\n",
              "\n",
              "    .colab-df-convert:hover {\n",
              "      background-color: #E2EBFA;\n",
              "      box-shadow: 0px 1px 2px rgba(60, 64, 67, 0.3), 0px 1px 3px 1px rgba(60, 64, 67, 0.15);\n",
              "      fill: #174EA6;\n",
              "    }\n",
              "\n",
              "    .colab-df-buttons div {\n",
              "      margin-bottom: 4px;\n",
              "    }\n",
              "\n",
              "    [theme=dark] .colab-df-convert {\n",
              "      background-color: #3B4455;\n",
              "      fill: #D2E3FC;\n",
              "    }\n",
              "\n",
              "    [theme=dark] .colab-df-convert:hover {\n",
              "      background-color: #434B5C;\n",
              "      box-shadow: 0px 1px 3px 1px rgba(0, 0, 0, 0.15);\n",
              "      filter: drop-shadow(0px 1px 2px rgba(0, 0, 0, 0.3));\n",
              "      fill: #FFFFFF;\n",
              "    }\n",
              "  </style>\n",
              "\n",
              "    <script>\n",
              "      const buttonEl =\n",
              "        document.querySelector('#df-7791a281-4583-4802-b0ae-fd8b772efb23 button.colab-df-convert');\n",
              "      buttonEl.style.display =\n",
              "        google.colab.kernel.accessAllowed ? 'block' : 'none';\n",
              "\n",
              "      async function convertToInteractive(key) {\n",
              "        const element = document.querySelector('#df-7791a281-4583-4802-b0ae-fd8b772efb23');\n",
              "        const dataTable =\n",
              "          await google.colab.kernel.invokeFunction('convertToInteractive',\n",
              "                                                    [key], {});\n",
              "        if (!dataTable) return;\n",
              "\n",
              "        const docLinkHtml = 'Like what you see? Visit the ' +\n",
              "          '<a target=\"_blank\" href=https://colab.research.google.com/notebooks/data_table.ipynb>data table notebook</a>'\n",
              "          + ' to learn more about interactive tables.';\n",
              "        element.innerHTML = '';\n",
              "        dataTable['output_type'] = 'display_data';\n",
              "        await google.colab.output.renderOutput(dataTable, element);\n",
              "        const docLink = document.createElement('div');\n",
              "        docLink.innerHTML = docLinkHtml;\n",
              "        element.appendChild(docLink);\n",
              "      }\n",
              "    </script>\n",
              "  </div>\n",
              "\n",
              "\n",
              "<div id=\"df-e6aa4847-4c61-4cac-9e29-2d963b6d8a6c\">\n",
              "  <button class=\"colab-df-quickchart\" onclick=\"quickchart('df-e6aa4847-4c61-4cac-9e29-2d963b6d8a6c')\"\n",
              "            title=\"Suggest charts\"\n",
              "            style=\"display:none;\">\n",
              "\n",
              "<svg xmlns=\"http://www.w3.org/2000/svg\" height=\"24px\"viewBox=\"0 0 24 24\"\n",
              "     width=\"24px\">\n",
              "    <g>\n",
              "        <path d=\"M19 3H5c-1.1 0-2 .9-2 2v14c0 1.1.9 2 2 2h14c1.1 0 2-.9 2-2V5c0-1.1-.9-2-2-2zM9 17H7v-7h2v7zm4 0h-2V7h2v10zm4 0h-2v-4h2v4z\"/>\n",
              "    </g>\n",
              "</svg>\n",
              "  </button>\n",
              "\n",
              "<style>\n",
              "  .colab-df-quickchart {\n",
              "      --bg-color: #E8F0FE;\n",
              "      --fill-color: #1967D2;\n",
              "      --hover-bg-color: #E2EBFA;\n",
              "      --hover-fill-color: #174EA6;\n",
              "      --disabled-fill-color: #AAA;\n",
              "      --disabled-bg-color: #DDD;\n",
              "  }\n",
              "\n",
              "  [theme=dark] .colab-df-quickchart {\n",
              "      --bg-color: #3B4455;\n",
              "      --fill-color: #D2E3FC;\n",
              "      --hover-bg-color: #434B5C;\n",
              "      --hover-fill-color: #FFFFFF;\n",
              "      --disabled-bg-color: #3B4455;\n",
              "      --disabled-fill-color: #666;\n",
              "  }\n",
              "\n",
              "  .colab-df-quickchart {\n",
              "    background-color: var(--bg-color);\n",
              "    border: none;\n",
              "    border-radius: 50%;\n",
              "    cursor: pointer;\n",
              "    display: none;\n",
              "    fill: var(--fill-color);\n",
              "    height: 32px;\n",
              "    padding: 0;\n",
              "    width: 32px;\n",
              "  }\n",
              "\n",
              "  .colab-df-quickchart:hover {\n",
              "    background-color: var(--hover-bg-color);\n",
              "    box-shadow: 0 1px 2px rgba(60, 64, 67, 0.3), 0 1px 3px 1px rgba(60, 64, 67, 0.15);\n",
              "    fill: var(--button-hover-fill-color);\n",
              "  }\n",
              "\n",
              "  .colab-df-quickchart-complete:disabled,\n",
              "  .colab-df-quickchart-complete:disabled:hover {\n",
              "    background-color: var(--disabled-bg-color);\n",
              "    fill: var(--disabled-fill-color);\n",
              "    box-shadow: none;\n",
              "  }\n",
              "\n",
              "  .colab-df-spinner {\n",
              "    border: 2px solid var(--fill-color);\n",
              "    border-color: transparent;\n",
              "    border-bottom-color: var(--fill-color);\n",
              "    animation:\n",
              "      spin 1s steps(1) infinite;\n",
              "  }\n",
              "\n",
              "  @keyframes spin {\n",
              "    0% {\n",
              "      border-color: transparent;\n",
              "      border-bottom-color: var(--fill-color);\n",
              "      border-left-color: var(--fill-color);\n",
              "    }\n",
              "    20% {\n",
              "      border-color: transparent;\n",
              "      border-left-color: var(--fill-color);\n",
              "      border-top-color: var(--fill-color);\n",
              "    }\n",
              "    30% {\n",
              "      border-color: transparent;\n",
              "      border-left-color: var(--fill-color);\n",
              "      border-top-color: var(--fill-color);\n",
              "      border-right-color: var(--fill-color);\n",
              "    }\n",
              "    40% {\n",
              "      border-color: transparent;\n",
              "      border-right-color: var(--fill-color);\n",
              "      border-top-color: var(--fill-color);\n",
              "    }\n",
              "    60% {\n",
              "      border-color: transparent;\n",
              "      border-right-color: var(--fill-color);\n",
              "    }\n",
              "    80% {\n",
              "      border-color: transparent;\n",
              "      border-right-color: var(--fill-color);\n",
              "      border-bottom-color: var(--fill-color);\n",
              "    }\n",
              "    90% {\n",
              "      border-color: transparent;\n",
              "      border-bottom-color: var(--fill-color);\n",
              "    }\n",
              "  }\n",
              "</style>\n",
              "\n",
              "  <script>\n",
              "    async function quickchart(key) {\n",
              "      const quickchartButtonEl =\n",
              "        document.querySelector('#' + key + ' button');\n",
              "      quickchartButtonEl.disabled = true;  // To prevent multiple clicks.\n",
              "      quickchartButtonEl.classList.add('colab-df-spinner');\n",
              "      try {\n",
              "        const charts = await google.colab.kernel.invokeFunction(\n",
              "            'suggestCharts', [key], {});\n",
              "      } catch (error) {\n",
              "        console.error('Error during call to suggestCharts:', error);\n",
              "      }\n",
              "      quickchartButtonEl.classList.remove('colab-df-spinner');\n",
              "      quickchartButtonEl.classList.add('colab-df-quickchart-complete');\n",
              "    }\n",
              "    (() => {\n",
              "      let quickchartButtonEl =\n",
              "        document.querySelector('#df-e6aa4847-4c61-4cac-9e29-2d963b6d8a6c button');\n",
              "      quickchartButtonEl.style.display =\n",
              "        google.colab.kernel.accessAllowed ? 'block' : 'none';\n",
              "    })();\n",
              "  </script>\n",
              "</div>\n",
              "\n",
              "    </div>\n",
              "  </div>\n"
            ],
            "application/vnd.google.colaboratory.intrinsic+json": {
              "type": "dataframe",
              "variable_name": "df",
              "summary": "{\n  \"name\": \"df\",\n  \"rows\": 484,\n  \"fields\": [\n    {\n      \"column\": 0,\n      \"properties\": {\n        \"dtype\": \"string\",\n        \"num_unique_values\": 460,\n        \"samples\": [\n          \"- The results of diagnostic and staging tests are used to find out if cancer cells have spread. - There are three ways that cancer spreads in the body. - Cancer may spread from where it began to other parts of the body. - Stages are used to describe the different types of bile duct cancer. - Intrahepatic bile duct cancer - Perihilar bile duct cancer - Distal extrahepatic bile duct cancer - The following groups are used to plan treatment: - Resectable (localized) bile duct cancer - Unresectable, metastatic, or recurrent bile duct cancer The results of diagnostic and staging tests are used to find out if cancer cells have spread. The process used to find out if cancer has spread to other parts of the body is called staging. For bile duct cancer, the information gathered from tests and procedures is used to plan treatment, including whether the tumor can be removed by surgery. There are three ways that cancer spreads in the body. Cancer can spread through tissue, the lymph system, and the blood: - Tissue. The cancer spreads from where it began by growing into nearby areas. - Lymph system. The cancer spreads from where it began by getting into the lymph system. The cancer travels through the lymph vessels to other parts of the body. - Blood. The cancer spreads from where it began by getting into the blood. The cancer travels through the blood vessels to other parts of the body. Cancer may spread from where it began to other parts of the body. When cancer spreads to another part of the body, it is called metastasis. Cancer cells break away from where they began (the primary tumor) and travel through the lymph system or blood. - Lymph system. The cancer gets into the lymph system, travels through the lymph vessels, and forms a tumor (metastatic tumor) in another part of the body. - Blood. The cancer gets into the blood, travels through the blood vessels, and forms a tumor (metastatic tumor) in another part of the body. The metastatic tumor is the same type of cancer as the primary tumor. For example, if bile duct cancer spreads to the liver, the cancer cells in the liver are actually bile duct cancer cells. The disease is metastatic bile duct cancer, not liver cancer. Stages are used to describe the different types of bile duct cancer. Intrahepatic bile duct cancer - Stage 0: Abnormal cells are found in the innermost layer of tissue lining the intrahepatic bile duct. These abnormal cells may become cancer and spread into nearby normal tissue. Stage 0 is also called carcinoma in situ. - Stage I: There is one tumor that has spread into the intrahepatic bile duct and it has not spread into any blood vessels. - Stage II: There is one tumor that has spread through the wall of the bile duct and into a blood vessel, or there are multiple tumors that may have spread into a blood vessel. - Stage III: The tumor has spread through the tissue that lines the abdominal wall or has spread to organs or tissues near the liver such as the duodenum, colon, and stomach. - Stage IV: Stage IV is divided into stage IVA and stage IVB. - Stage IVA: The cancer has spread along the outside of the intrahepatic bile ducts or the cancer has spread to nearby lymph nodes. - Stage IVB: The cancer has spread to organs in other parts of the body. Perihilar bile duct cancer - Stage 0: Abnormal cells are found in the innermost layer of tissue lining the perihilar bile duct. These abnormal cells may become cancer and spread into nearby normal tissue. Stage 0 is also called carcinoma in situ. - Stage I: Cancer has formed in the innermost layer of the wall of the perihilar bile duct and has spread into the muscle layer or fibrous tissue layer of the wall. - Stage II: Cancer has spread through the wall of the perihilar bile duct to nearby fatty tissue or to the liver. - Stage III: Stage III is divided into stage IIIA and stage IIIB. - Stage IIIA: Cancer has spread to branches on one side of the hepatic artery or of the portal vein. - Stage IIIB: Cancer has spread to nearby lymph nodes. Cancer may have spread into the wall of the perihilar bile duct or through the wall to nearby fatty tissue, the liver, or to branches on one side of the hepatic artery or of the portal vein. - Stage IV: Stage IV is divided into stage IVA and stage IVB. - Stage IVA: Cancer has spread to one or more of the following: - the main part of the portal vein and/or common hepatic artery; - the branches of the portal vein and/or common hepatic artery on both sides; - the right hepatic duct and the left branch of the hepatic artery or of the portal vein; - the left hepatic duct and the right branch of the hepatic artery or of the portal vein. Cancer may have spread to nearby lymph nodes. - Stage IVB: Cancer has spread to lymph nodes in more distant parts of the abdomen, or to organs in other parts of the body. Distal extrahepatic bile duct cancer - Stage 0: Abnormal cells are found in the innermost layer of tissue lining the distal extrahepatic bile duct. These abnormal cells may become cancer and spread into nearby normal tissue. Stage 0 is also called carcinoma in situ. - Stage I: Stage I is divided into stage IA and stage IB. - Stage IA: Cancer has formed and is found in the distal extrahepatic bile duct wall only. - Stage IB: Cancer has formed and has spread through the wall of the distal extrahepatic bile duct but has not spread to nearby organs. - Stage II: Stage II is divided into stage IIA and stage IIB. - Stage IIA: Cancer has spread from the distal extrahepatic bile duct to the gallbladder, pancreas, duodenum, or other nearby organs. - Stage IIB: Cancer has spread from the distal extrahepatic bile duct to nearby lymph nodes. Cancer may have spread through the wall of the duct or to nearby organs. - Stage III: Cancer has spread to the large vessels that carry blood to the organs in the abdomen. Cancer may have spread to nearby lymph nodes. - Stage IV: Cancer has spread to organs in distant parts of the body. The following groups are used to plan treatment: Resectable (localized) bile duct cancer The cancer is in an area, such as the lower part of the common bile duct or perihilar area, where it can be removed completely by surgery. Unresectable, metastatic, or recurrent bile duct cancer Unresectable cancer cannot be removed completely by surgery. Most patients with bile duct cancer cannot have their cancer completely removed by surgery. Metastasis is the spread of cancer from the primary site (place where it started) to other places in the body. Metastatic bile duct cancer may have spread to the liver, other parts of the abdominal cavity, or to distant parts of the body. Recurrent bile duct cancer is cancer that has recurred (come back) after it has been treated. The cancer may come back in the bile ducts, liver, or gallbladder. Less often, it may come back in distant parts of the body.\",\n          \"What is are Adult Soft Tissue Sarcoma ?\",\n          \"Cancer prevention clinical trials are used to study ways to prevent cancer. Cancer prevention clinical trials are used to study ways to lower the risk of developing certain types of cancer. Some cancer prevention trials are conducted with healthy people who have not had cancer but who have an increased risk for cancer. Other prevention trials are conducted with people who have had cancer and are trying to prevent another cancer of the same type or to lower their chance of developing a new type of cancer. Other trials are done with healthy volunteers who are not known to have any risk factors for cancer. The purpose of some cancer prevention clinical trials is to find out whether actions people take can prevent cancer. These may include exercising more or quitting smoking or taking certain medicines, vitamins, minerals, or food supplements. New ways to prevent breast cancer are being studied in clinical trials.\"\n        ],\n        \"semantic_type\": \"\",\n        \"description\": \"\"\n      }\n    }\n  ]\n}"
            }
          },
          "metadata": {},
          "execution_count": 2
        }
      ]
    },
    {
      "cell_type": "code",
      "execution_count": 3,
      "metadata": {
        "id": "LEpKubK9XzXN",
        "colab": {
          "base_uri": "https://localhost:8080/"
        },
        "outputId": "60d40d57-abb1-46a6-c182-2c675d795fa6"
      },
      "outputs": [
        {
          "output_type": "stream",
          "name": "stdout",
          "text": [
            "Cantidad de documentos: 484\n"
          ]
        }
      ],
      "source": [
        "print(\"Cantidad de documentos:\", df.shape[0])"
      ]
    },
    {
      "cell_type": "markdown",
      "metadata": {
        "id": "ab94qaFlrA1G"
      },
      "source": [
        "### 1 - Preprocesamiento"
      ]
    },
    {
      "cell_type": "markdown",
      "source": [
        "#### Eliminación de \"Stop Words\"\n",
        "Uso la función \"remove_stopwords\" de gensim para eliminar las palabras que no son significativas en los documentos como conectores, advervios, etc"
      ],
      "metadata": {
        "id": "uNceswd24isi"
      }
    },
    {
      "cell_type": "code",
      "source": [
        "from gensim.parsing.preprocessing import remove_stopwords\n",
        "\n",
        "df[0] = df[0].apply(lambda x: remove_stopwords(x))"
      ],
      "metadata": {
        "id": "6Vsixqxx1-XW"
      },
      "execution_count": 4,
      "outputs": []
    },
    {
      "cell_type": "code",
      "source": [
        "#Verificación\n",
        "df.head()"
      ],
      "metadata": {
        "colab": {
          "base_uri": "https://localhost:8080/",
          "height": 206
        },
        "id": "DFnPS0Pa3CpO",
        "outputId": "bd2c9e08-0794-45a8-feb1-154382d76fe5"
      },
      "execution_count": 5,
      "outputs": [
        {
          "output_type": "execute_result",
          "data": {
            "text/plain": [
              "                                                   0\n",
              "0                What Adult Acute Myeloid Leukemia ?\n",
              "1  - Adult acute myeloid leukemia (AML) type canc...\n",
              "2           Who risk Adult Acute Myeloid Leukemia? ?\n",
              "3  Smoking, previous chemotherapy treatment, expo...\n",
              "4       What symptoms Adult Acute Myeloid Leukemia ?"
            ],
            "text/html": [
              "\n",
              "  <div id=\"df-a1788fe4-941b-46ff-a939-07048d389761\" class=\"colab-df-container\">\n",
              "    <div>\n",
              "<style scoped>\n",
              "    .dataframe tbody tr th:only-of-type {\n",
              "        vertical-align: middle;\n",
              "    }\n",
              "\n",
              "    .dataframe tbody tr th {\n",
              "        vertical-align: top;\n",
              "    }\n",
              "\n",
              "    .dataframe thead th {\n",
              "        text-align: right;\n",
              "    }\n",
              "</style>\n",
              "<table border=\"1\" class=\"dataframe\">\n",
              "  <thead>\n",
              "    <tr style=\"text-align: right;\">\n",
              "      <th></th>\n",
              "      <th>0</th>\n",
              "    </tr>\n",
              "  </thead>\n",
              "  <tbody>\n",
              "    <tr>\n",
              "      <th>0</th>\n",
              "      <td>What Adult Acute Myeloid Leukemia ?</td>\n",
              "    </tr>\n",
              "    <tr>\n",
              "      <th>1</th>\n",
              "      <td>- Adult acute myeloid leukemia (AML) type canc...</td>\n",
              "    </tr>\n",
              "    <tr>\n",
              "      <th>2</th>\n",
              "      <td>Who risk Adult Acute Myeloid Leukemia? ?</td>\n",
              "    </tr>\n",
              "    <tr>\n",
              "      <th>3</th>\n",
              "      <td>Smoking, previous chemotherapy treatment, expo...</td>\n",
              "    </tr>\n",
              "    <tr>\n",
              "      <th>4</th>\n",
              "      <td>What symptoms Adult Acute Myeloid Leukemia ?</td>\n",
              "    </tr>\n",
              "  </tbody>\n",
              "</table>\n",
              "</div>\n",
              "    <div class=\"colab-df-buttons\">\n",
              "\n",
              "  <div class=\"colab-df-container\">\n",
              "    <button class=\"colab-df-convert\" onclick=\"convertToInteractive('df-a1788fe4-941b-46ff-a939-07048d389761')\"\n",
              "            title=\"Convert this dataframe to an interactive table.\"\n",
              "            style=\"display:none;\">\n",
              "\n",
              "  <svg xmlns=\"http://www.w3.org/2000/svg\" height=\"24px\" viewBox=\"0 -960 960 960\">\n",
              "    <path d=\"M120-120v-720h720v720H120Zm60-500h600v-160H180v160Zm220 220h160v-160H400v160Zm0 220h160v-160H400v160ZM180-400h160v-160H180v160Zm440 0h160v-160H620v160ZM180-180h160v-160H180v160Zm440 0h160v-160H620v160Z\"/>\n",
              "  </svg>\n",
              "    </button>\n",
              "\n",
              "  <style>\n",
              "    .colab-df-container {\n",
              "      display:flex;\n",
              "      gap: 12px;\n",
              "    }\n",
              "\n",
              "    .colab-df-convert {\n",
              "      background-color: #E8F0FE;\n",
              "      border: none;\n",
              "      border-radius: 50%;\n",
              "      cursor: pointer;\n",
              "      display: none;\n",
              "      fill: #1967D2;\n",
              "      height: 32px;\n",
              "      padding: 0 0 0 0;\n",
              "      width: 32px;\n",
              "    }\n",
              "\n",
              "    .colab-df-convert:hover {\n",
              "      background-color: #E2EBFA;\n",
              "      box-shadow: 0px 1px 2px rgba(60, 64, 67, 0.3), 0px 1px 3px 1px rgba(60, 64, 67, 0.15);\n",
              "      fill: #174EA6;\n",
              "    }\n",
              "\n",
              "    .colab-df-buttons div {\n",
              "      margin-bottom: 4px;\n",
              "    }\n",
              "\n",
              "    [theme=dark] .colab-df-convert {\n",
              "      background-color: #3B4455;\n",
              "      fill: #D2E3FC;\n",
              "    }\n",
              "\n",
              "    [theme=dark] .colab-df-convert:hover {\n",
              "      background-color: #434B5C;\n",
              "      box-shadow: 0px 1px 3px 1px rgba(0, 0, 0, 0.15);\n",
              "      filter: drop-shadow(0px 1px 2px rgba(0, 0, 0, 0.3));\n",
              "      fill: #FFFFFF;\n",
              "    }\n",
              "  </style>\n",
              "\n",
              "    <script>\n",
              "      const buttonEl =\n",
              "        document.querySelector('#df-a1788fe4-941b-46ff-a939-07048d389761 button.colab-df-convert');\n",
              "      buttonEl.style.display =\n",
              "        google.colab.kernel.accessAllowed ? 'block' : 'none';\n",
              "\n",
              "      async function convertToInteractive(key) {\n",
              "        const element = document.querySelector('#df-a1788fe4-941b-46ff-a939-07048d389761');\n",
              "        const dataTable =\n",
              "          await google.colab.kernel.invokeFunction('convertToInteractive',\n",
              "                                                    [key], {});\n",
              "        if (!dataTable) return;\n",
              "\n",
              "        const docLinkHtml = 'Like what you see? Visit the ' +\n",
              "          '<a target=\"_blank\" href=https://colab.research.google.com/notebooks/data_table.ipynb>data table notebook</a>'\n",
              "          + ' to learn more about interactive tables.';\n",
              "        element.innerHTML = '';\n",
              "        dataTable['output_type'] = 'display_data';\n",
              "        await google.colab.output.renderOutput(dataTable, element);\n",
              "        const docLink = document.createElement('div');\n",
              "        docLink.innerHTML = docLinkHtml;\n",
              "        element.appendChild(docLink);\n",
              "      }\n",
              "    </script>\n",
              "  </div>\n",
              "\n",
              "\n",
              "<div id=\"df-e13074ef-5571-4cf6-b243-2eb7c431b93c\">\n",
              "  <button class=\"colab-df-quickchart\" onclick=\"quickchart('df-e13074ef-5571-4cf6-b243-2eb7c431b93c')\"\n",
              "            title=\"Suggest charts\"\n",
              "            style=\"display:none;\">\n",
              "\n",
              "<svg xmlns=\"http://www.w3.org/2000/svg\" height=\"24px\"viewBox=\"0 0 24 24\"\n",
              "     width=\"24px\">\n",
              "    <g>\n",
              "        <path d=\"M19 3H5c-1.1 0-2 .9-2 2v14c0 1.1.9 2 2 2h14c1.1 0 2-.9 2-2V5c0-1.1-.9-2-2-2zM9 17H7v-7h2v7zm4 0h-2V7h2v10zm4 0h-2v-4h2v4z\"/>\n",
              "    </g>\n",
              "</svg>\n",
              "  </button>\n",
              "\n",
              "<style>\n",
              "  .colab-df-quickchart {\n",
              "      --bg-color: #E8F0FE;\n",
              "      --fill-color: #1967D2;\n",
              "      --hover-bg-color: #E2EBFA;\n",
              "      --hover-fill-color: #174EA6;\n",
              "      --disabled-fill-color: #AAA;\n",
              "      --disabled-bg-color: #DDD;\n",
              "  }\n",
              "\n",
              "  [theme=dark] .colab-df-quickchart {\n",
              "      --bg-color: #3B4455;\n",
              "      --fill-color: #D2E3FC;\n",
              "      --hover-bg-color: #434B5C;\n",
              "      --hover-fill-color: #FFFFFF;\n",
              "      --disabled-bg-color: #3B4455;\n",
              "      --disabled-fill-color: #666;\n",
              "  }\n",
              "\n",
              "  .colab-df-quickchart {\n",
              "    background-color: var(--bg-color);\n",
              "    border: none;\n",
              "    border-radius: 50%;\n",
              "    cursor: pointer;\n",
              "    display: none;\n",
              "    fill: var(--fill-color);\n",
              "    height: 32px;\n",
              "    padding: 0;\n",
              "    width: 32px;\n",
              "  }\n",
              "\n",
              "  .colab-df-quickchart:hover {\n",
              "    background-color: var(--hover-bg-color);\n",
              "    box-shadow: 0 1px 2px rgba(60, 64, 67, 0.3), 0 1px 3px 1px rgba(60, 64, 67, 0.15);\n",
              "    fill: var(--button-hover-fill-color);\n",
              "  }\n",
              "\n",
              "  .colab-df-quickchart-complete:disabled,\n",
              "  .colab-df-quickchart-complete:disabled:hover {\n",
              "    background-color: var(--disabled-bg-color);\n",
              "    fill: var(--disabled-fill-color);\n",
              "    box-shadow: none;\n",
              "  }\n",
              "\n",
              "  .colab-df-spinner {\n",
              "    border: 2px solid var(--fill-color);\n",
              "    border-color: transparent;\n",
              "    border-bottom-color: var(--fill-color);\n",
              "    animation:\n",
              "      spin 1s steps(1) infinite;\n",
              "  }\n",
              "\n",
              "  @keyframes spin {\n",
              "    0% {\n",
              "      border-color: transparent;\n",
              "      border-bottom-color: var(--fill-color);\n",
              "      border-left-color: var(--fill-color);\n",
              "    }\n",
              "    20% {\n",
              "      border-color: transparent;\n",
              "      border-left-color: var(--fill-color);\n",
              "      border-top-color: var(--fill-color);\n",
              "    }\n",
              "    30% {\n",
              "      border-color: transparent;\n",
              "      border-left-color: var(--fill-color);\n",
              "      border-top-color: var(--fill-color);\n",
              "      border-right-color: var(--fill-color);\n",
              "    }\n",
              "    40% {\n",
              "      border-color: transparent;\n",
              "      border-right-color: var(--fill-color);\n",
              "      border-top-color: var(--fill-color);\n",
              "    }\n",
              "    60% {\n",
              "      border-color: transparent;\n",
              "      border-right-color: var(--fill-color);\n",
              "    }\n",
              "    80% {\n",
              "      border-color: transparent;\n",
              "      border-right-color: var(--fill-color);\n",
              "      border-bottom-color: var(--fill-color);\n",
              "    }\n",
              "    90% {\n",
              "      border-color: transparent;\n",
              "      border-bottom-color: var(--fill-color);\n",
              "    }\n",
              "  }\n",
              "</style>\n",
              "\n",
              "  <script>\n",
              "    async function quickchart(key) {\n",
              "      const quickchartButtonEl =\n",
              "        document.querySelector('#' + key + ' button');\n",
              "      quickchartButtonEl.disabled = true;  // To prevent multiple clicks.\n",
              "      quickchartButtonEl.classList.add('colab-df-spinner');\n",
              "      try {\n",
              "        const charts = await google.colab.kernel.invokeFunction(\n",
              "            'suggestCharts', [key], {});\n",
              "      } catch (error) {\n",
              "        console.error('Error during call to suggestCharts:', error);\n",
              "      }\n",
              "      quickchartButtonEl.classList.remove('colab-df-spinner');\n",
              "      quickchartButtonEl.classList.add('colab-df-quickchart-complete');\n",
              "    }\n",
              "    (() => {\n",
              "      let quickchartButtonEl =\n",
              "        document.querySelector('#df-e13074ef-5571-4cf6-b243-2eb7c431b93c button');\n",
              "      quickchartButtonEl.style.display =\n",
              "        google.colab.kernel.accessAllowed ? 'block' : 'none';\n",
              "    })();\n",
              "  </script>\n",
              "</div>\n",
              "\n",
              "    </div>\n",
              "  </div>\n"
            ],
            "application/vnd.google.colaboratory.intrinsic+json": {
              "type": "dataframe",
              "variable_name": "df",
              "summary": "{\n  \"name\": \"df\",\n  \"rows\": 484,\n  \"fields\": [\n    {\n      \"column\": 0,\n      \"properties\": {\n        \"dtype\": \"string\",\n        \"num_unique_values\": 460,\n        \"samples\": [\n          \"- The results diagnostic staging tests cancer cells spread. - There ways cancer spreads body. - Cancer spread began parts body. - Stages different types bile duct cancer. - Intrahepatic bile duct cancer - Perihilar bile duct cancer - Distal extrahepatic bile duct cancer - The following groups plan treatment: - Resectable (localized) bile duct cancer - Unresectable, metastatic, recurrent bile duct cancer The results diagnostic staging tests cancer cells spread. The process cancer spread parts body called staging. For bile duct cancer, information gathered tests procedures plan treatment, including tumor removed surgery. There ways cancer spreads body. Cancer spread tissue, lymph system, blood: - Tissue. The cancer spreads began growing nearby areas. - Lymph system. The cancer spreads began getting lymph system. The cancer travels lymph vessels parts body. - Blood. The cancer spreads began getting blood. The cancer travels blood vessels parts body. Cancer spread began parts body. When cancer spreads body, called metastasis. Cancer cells break away began (the primary tumor) travel lymph blood. - Lymph system. The cancer gets lymph system, travels lymph vessels, forms tumor (metastatic tumor) body. - Blood. The cancer gets blood, travels blood vessels, forms tumor (metastatic tumor) body. The metastatic tumor type cancer primary tumor. For example, bile duct cancer spreads liver, cancer cells liver actually bile duct cancer cells. The disease metastatic bile duct cancer, liver cancer. Stages different types bile duct cancer. Intrahepatic bile duct cancer - Stage 0: Abnormal cells innermost layer tissue lining intrahepatic bile duct. These abnormal cells cancer spread nearby normal tissue. Stage 0 called carcinoma situ. - Stage I: There tumor spread intrahepatic bile duct spread blood vessels. - Stage II: There tumor spread wall bile duct blood vessel, multiple tumors spread blood vessel. - Stage III: The tumor spread tissue lines abdominal wall spread organs tissues near liver duodenum, colon, stomach. - Stage IV: Stage IV divided stage IVA stage IVB. - Stage IVA: The cancer spread outside intrahepatic bile ducts cancer spread nearby lymph nodes. - Stage IVB: The cancer spread organs parts body. Perihilar bile duct cancer - Stage 0: Abnormal cells innermost layer tissue lining perihilar bile duct. These abnormal cells cancer spread nearby normal tissue. Stage 0 called carcinoma situ. - Stage I: Cancer formed innermost layer wall perihilar bile duct spread muscle layer fibrous tissue layer wall. - Stage II: Cancer spread wall perihilar bile duct nearby fatty tissue liver. - Stage III: Stage III divided stage IIIA stage IIIB. - Stage IIIA: Cancer spread branches hepatic artery portal vein. - Stage IIIB: Cancer spread nearby lymph nodes. Cancer spread wall perihilar bile duct wall nearby fatty tissue, liver, branches hepatic artery portal vein. - Stage IV: Stage IV divided stage IVA stage IVB. - Stage IVA: Cancer spread following: - main portal vein and/or common hepatic artery; - branches portal vein and/or common hepatic artery sides; - right hepatic duct left branch hepatic artery portal vein; - left hepatic duct right branch hepatic artery portal vein. Cancer spread nearby lymph nodes. - Stage IVB: Cancer spread lymph nodes distant parts abdomen, organs parts body. Distal extrahepatic bile duct cancer - Stage 0: Abnormal cells innermost layer tissue lining distal extrahepatic bile duct. These abnormal cells cancer spread nearby normal tissue. Stage 0 called carcinoma situ. - Stage I: Stage I divided stage IA stage IB. - Stage IA: Cancer formed distal extrahepatic bile duct wall only. - Stage IB: Cancer formed spread wall distal extrahepatic bile duct spread nearby organs. - Stage II: Stage II divided stage IIA stage IIB. - Stage IIA: Cancer spread distal extrahepatic bile duct gallbladder, pancreas, duodenum, nearby organs. - Stage IIB: Cancer spread distal extrahepatic bile duct nearby lymph nodes. Cancer spread wall duct nearby organs. - Stage III: Cancer spread large vessels carry blood organs abdomen. Cancer spread nearby lymph nodes. - Stage IV: Cancer spread organs distant parts body. The following groups plan treatment: Resectable (localized) bile duct cancer The cancer area, lower common bile duct perihilar area, removed completely surgery. Unresectable, metastatic, recurrent bile duct cancer Unresectable cancer removed completely surgery. Most patients bile duct cancer cancer completely removed surgery. Metastasis spread cancer primary site (place started) places body. Metastatic bile duct cancer spread liver, parts abdominal cavity, distant parts body. Recurrent bile duct cancer cancer recurred (come back) treated. The cancer come bile ducts, liver, gallbladder. Less often, come distant parts body.\",\n          \"What Adult Soft Tissue Sarcoma ?\",\n          \"Cancer prevention clinical trials study ways prevent cancer. Cancer prevention clinical trials study ways lower risk developing certain types cancer. Some cancer prevention trials conducted healthy people cancer increased risk cancer. Other prevention trials conducted people cancer trying prevent cancer type lower chance developing new type cancer. Other trials healthy volunteers known risk factors cancer. The purpose cancer prevention clinical trials actions people prevent cancer. These include exercising quitting smoking taking certain medicines, vitamins, minerals, food supplements. New ways prevent breast cancer studied clinical trials.\"\n        ],\n        \"semantic_type\": \"\",\n        \"description\": \"\"\n      }\n    }\n  ]\n}"
            }
          },
          "metadata": {},
          "execution_count": 5
        }
      ]
    },
    {
      "cell_type": "markdown",
      "source": [
        "#### Oraciones en secuencias de palabras"
      ],
      "metadata": {
        "id": "dyLO7_Al47CN"
      }
    },
    {
      "cell_type": "code",
      "execution_count": 6,
      "metadata": {
        "id": "rIsmMWmjrDHd"
      },
      "outputs": [],
      "source": [
        "from tensorflow.keras.preprocessing.text import text_to_word_sequence\n",
        "\n",
        "sentence_tokens = []\n",
        "\n",
        "for _, row in df[:None].iterrows():\n",
        "    sentence_tokens.append(text_to_word_sequence(row[0]))"
      ]
    },
    {
      "cell_type": "markdown",
      "metadata": {
        "id": "BaXV6nlHr5Aa"
      },
      "source": [
        "### 2 -Vectores Word2vec"
      ]
    },
    {
      "cell_type": "code",
      "execution_count": 7,
      "metadata": {
        "id": "OSb0v7h8r7hK"
      },
      "outputs": [],
      "source": [
        "from gensim.models.callbacks import CallbackAny2Vec\n",
        "# Durante el entrenamiento gensim por defecto no informa el \"loss\" en cada época\n",
        "# Sobrecargamos el callback para poder tener esta información\n",
        "class callback(CallbackAny2Vec):\n",
        "    \"\"\"\n",
        "    Callback to print loss after each epoch\n",
        "    \"\"\"\n",
        "    def __init__(self):\n",
        "        self.epoch = 0\n",
        "\n",
        "    def on_epoch_end(self, model):\n",
        "        loss = model.get_latest_training_loss()\n",
        "        if self.epoch == 0:\n",
        "            print('Loss after epoch {}: {}'.format(self.epoch, loss))\n",
        "        else:\n",
        "            print('Loss after epoch {}: {}'.format(self.epoch, loss- self.loss_previous_step))\n",
        "        self.epoch += 1\n",
        "        self.loss_previous_step = loss"
      ]
    },
    {
      "cell_type": "markdown",
      "source": [
        "#### Modelo generador de vectores.\n",
        "\n",
        "Elegí los siguientes hiperparámetros que dieron mejores resultados:\n",
        "\n",
        "Hiperparámetros elegidos:\n",
        "- Frecuencia de repetición mayor a 5 : dado que el texto es bastante específico y ciertos conceptos pueden estar en algunas preguntas/respuestas; veo que la frecuencia de palabras puede no ser tan alta\n",
        "\n",
        "- Ventana de 10 palabras antes y después: para que capture mejor ciertas relaciones y conceptos\n",
        "\n",
        "- Vector de embedding de largo 200: Para este caso con los hiperparámetros elegidos no hubo tanta diferencia en cuanto a valor de loss y resultados de ensayos y analogías; para embeddings de 200/300 y 400 valores, por lo que elijo el embedding más chico para optimización.\n",
        "\n"
      ],
      "metadata": {
        "id": "9eW31-QK17-M"
      }
    },
    {
      "cell_type": "code",
      "execution_count": 8,
      "metadata": {
        "id": "i0wnDdv9sJ47"
      },
      "outputs": [],
      "source": [
        "# Crearmos el modelo generador de vectores\n",
        "# En este caso utilizaremos la estructura modelo Skipgram\n",
        "w2v_model = Word2Vec(min_count=5,\n",
        "                     window=10,\n",
        "                     vector_size=200,\n",
        "                     negative=20,\n",
        "                     workers=1,\n",
        "                     sg=1)"
      ]
    },
    {
      "cell_type": "code",
      "execution_count": 9,
      "metadata": {
        "id": "5lTt8wErsf17"
      },
      "outputs": [],
      "source": [
        "# Obtener el vocabulario con los tokens\n",
        "w2v_model.build_vocab(sentence_tokens)"
      ]
    },
    {
      "cell_type": "code",
      "execution_count": 10,
      "metadata": {
        "id": "TNc9qt4os5AT",
        "colab": {
          "base_uri": "https://localhost:8080/"
        },
        "outputId": "d425dcc5-9e58-4f49-b28a-6c1688cd43ee"
      },
      "outputs": [
        {
          "output_type": "stream",
          "name": "stdout",
          "text": [
            "Cantidad de docs en el corpus: 484\n"
          ]
        }
      ],
      "source": [
        "# Cantidad de filas/docs encontradas en el corpus\n",
        "print(\"Cantidad de docs en el corpus:\", w2v_model.corpus_count)"
      ]
    },
    {
      "cell_type": "code",
      "execution_count": 11,
      "metadata": {
        "id": "idw9cHF3tSMl",
        "colab": {
          "base_uri": "https://localhost:8080/"
        },
        "outputId": "274fe94b-f68b-4f2d-e195-69d0d0101701"
      },
      "outputs": [
        {
          "output_type": "stream",
          "name": "stdout",
          "text": [
            "Cantidad de palabras distintas en el corpus: 1532\n"
          ]
        }
      ],
      "source": [
        "# Cantidad de words encontradas en el corpus\n",
        "print(\"Cantidad de palabras distintas en el corpus:\", len(w2v_model.wv.index_to_key))"
      ]
    },
    {
      "cell_type": "markdown",
      "metadata": {
        "id": "fC9mZ8DPk-UC"
      },
      "source": [
        "### 3 - Entrenar embeddings"
      ]
    },
    {
      "cell_type": "code",
      "execution_count": 12,
      "metadata": {
        "id": "QSp-x0PAsq56",
        "colab": {
          "base_uri": "https://localhost:8080/"
        },
        "outputId": "16878854-d552-4e82-ef7d-72697e548524"
      },
      "outputs": [
        {
          "output_type": "stream",
          "name": "stdout",
          "text": [
            "Loss after epoch 0: 2011376.125\n",
            "Loss after epoch 1: 1544263.625\n",
            "Loss after epoch 2: 1436886.25\n",
            "Loss after epoch 3: 1377684.0\n",
            "Loss after epoch 4: 1367587.5\n",
            "Loss after epoch 5: 1308703.5\n",
            "Loss after epoch 6: 1260645.0\n",
            "Loss after epoch 7: 1252999.0\n",
            "Loss after epoch 8: 1262982.0\n",
            "Loss after epoch 9: 1256158.0\n",
            "Loss after epoch 10: 1256721.0\n",
            "Loss after epoch 11: 1261337.0\n",
            "Loss after epoch 12: 1128223.0\n",
            "Loss after epoch 13: 1112678.0\n",
            "Loss after epoch 14: 1111588.0\n",
            "Loss after epoch 15: 1113170.0\n",
            "Loss after epoch 16: 1113124.0\n",
            "Loss after epoch 17: 1109892.0\n",
            "Loss after epoch 18: 1117548.0\n",
            "Loss after epoch 19: 1118792.0\n",
            "Loss after epoch 20: 1119366.0\n",
            "Loss after epoch 21: 1119308.0\n",
            "Loss after epoch 22: 1123414.0\n",
            "Loss after epoch 23: 1119558.0\n",
            "Loss after epoch 24: 1129098.0\n",
            "Loss after epoch 25: 1127898.0\n",
            "Loss after epoch 26: 1145850.0\n",
            "Loss after epoch 27: 970278.0\n",
            "Loss after epoch 28: 964880.0\n",
            "Loss after epoch 29: 985080.0\n"
          ]
        },
        {
          "output_type": "execute_result",
          "data": {
            "text/plain": [
              "(1886168, 2505630)"
            ]
          },
          "metadata": {},
          "execution_count": 12
        }
      ],
      "source": [
        "# Entrenamos el modelo generador de vectores\n",
        "# Utilizamos nuestro callback\n",
        "w2v_model.train(sentence_tokens,\n",
        "                 total_examples=w2v_model.corpus_count,\n",
        "                 epochs=30,\n",
        "                 compute_loss = True,\n",
        "                 callbacks=[callback()]\n",
        "                 )"
      ]
    },
    {
      "cell_type": "markdown",
      "metadata": {
        "id": "ddT9NVuNlCAe"
      },
      "source": [
        "### 4 - Ensayos\n",
        "\n",
        "Pruebo palabras más similares para 'Sangre', 'Mujer' y 'Gen'"
      ]
    },
    {
      "cell_type": "code",
      "source": [
        "w2v_model.wv.most_similar(positive=[\"blood\"], topn=10)"
      ],
      "metadata": {
        "colab": {
          "base_uri": "https://localhost:8080/"
        },
        "id": "ZPUNB_8-axUD",
        "outputId": "72baab90-2828-4a35-8ec1-706ef252f952"
      },
      "execution_count": 13,
      "outputs": [
        {
          "output_type": "execute_result",
          "data": {
            "text/plain": [
              "[('vessels', 0.5052155256271362),\n",
              " ('serum', 0.4661736488342285),\n",
              " ('break', 0.4638121724128723),\n",
              " ('chemistry', 0.4534189999103546),\n",
              " ('hemoglobin', 0.44031837582588196),\n",
              " ('portion', 0.4377850294113159),\n",
              " ('platelets', 0.4313320219516754),\n",
              " ('contrast', 0.42520567774772644),\n",
              " ('cortisol', 0.4242464005947113),\n",
              " ('oxygen', 0.4199490547180176)]"
            ]
          },
          "metadata": {},
          "execution_count": 13
        }
      ]
    },
    {
      "cell_type": "code",
      "execution_count": 14,
      "metadata": {
        "id": "6cHN9xGLuPEm",
        "colab": {
          "base_uri": "https://localhost:8080/"
        },
        "outputId": "2289bc78-f824-4da1-8421-5bd41d66fee1"
      },
      "outputs": [
        {
          "output_type": "execute_result",
          "data": {
            "text/plain": [
              "[('premenopausal', 0.5405682921409607),\n",
              " ('postmenopausal', 0.5168856382369995),\n",
              " ('breast', 0.5036075115203857),\n",
              " ('pregnant', 0.4978010356426239),\n",
              " ('nursing', 0.47688189148902893),\n",
              " ('woman', 0.4687138795852661),\n",
              " ('dense', 0.4482439160346985),\n",
              " ('men', 0.4474965035915375),\n",
              " ('feeding', 0.4455025792121887),\n",
              " ('reducing', 0.44507986307144165)]"
            ]
          },
          "metadata": {},
          "execution_count": 14
        }
      ],
      "source": [
        "# Palabras que MÁS se relacionan con...:\n",
        "w2v_model.wv.most_similar(positive=[\"women\"], topn=10)"
      ]
    },
    {
      "cell_type": "code",
      "source": [
        "vector_gene = w2v_model.wv.get_vector('gene')\n",
        "w2v_model.wv.most_similar(positive=[vector_gene], topn=10)"
      ],
      "metadata": {
        "colab": {
          "base_uri": "https://localhost:8080/"
        },
        "id": "MdTTTgL3mCYx",
        "outputId": "97ec9719-042c-44ef-e258-3753297ef5d6"
      },
      "execution_count": 15,
      "outputs": [
        {
          "output_type": "execute_result",
          "data": {
            "text/plain": [
              "[('gene', 1.0),\n",
              " ('mutations', 0.766743540763855),\n",
              " ('mutation', 0.7245761156082153),\n",
              " ('smarcb1', 0.5971249938011169),\n",
              " ('brca1', 0.5829885005950928),\n",
              " ('parent', 0.5802830457687378),\n",
              " ('smarca4', 0.5787805914878845),\n",
              " ('brca2', 0.5468679070472717),\n",
              " ('inherited', 0.5436486005783081),\n",
              " ('genes', 0.5065792798995972)]"
            ]
          },
          "metadata": {},
          "execution_count": 15
        }
      ]
    },
    {
      "cell_type": "markdown",
      "source": [
        "#### Observaciones\n",
        "\n",
        "Se tomaron 3 ejemplos para corroborar palabras con sus 10 más similares y en todas se logra ver la cercanía de conceptos:\n",
        "- Sangre: para este caso vemos palabras como \"vasos sanguíneos\" y \"hemoglobina\", \"plaquetas\" y \"oxígeno\" que están muy relacionados con los componentes de la sangre. O por ejemplo \"contraste\" que refiere probablemente a las sustancias de contraste que se suministran en ciertos estudios de imágenes médicas.\n",
        "\n",
        "- Mujeres: para el caso de mujer es donde más conceptos relacionados se ven, probablemente porque haya más enfoque en el corpus seleccionado. Vemos conceptos relacionados con el género y alteraciones que pueden afectar la enfermedad como \"post y pre menospaucia\", \"embarazo\", \"lactancia\" y \"mama\". Y, a su vez, similaritudes -sintácticas- como ser \"mujer\" y \"hombre\"\n",
        "\n",
        "- Genes: vemos varios genes puntuales realcionados con el cancer, y por otro lado los conceptos de mutaciones o herencia, que están altamente relacionados con \"mutaciones genéticas\" y \"herencia genética\".\n",
        "\n"
      ],
      "metadata": {
        "id": "jhqSjAwn6_DE"
      }
    },
    {
      "cell_type": "markdown",
      "source": [
        "### 5- Analogías\n",
        "\n",
        "Se probaron 2 ejemplos de analogías que vemos que se cumplieron:\n",
        "\n",
        "- En el primer caso se buscó la analogía de lo que sería \"cancer de mama\" en la mujer, para el hombre; y se obtuvo \"próstata\" como resultado lo cuál es bastante acertado, en cuánto a que son órganos y localizaciones de tumores muy relacionados al género\n",
        "\n",
        "- Para el segundo caso se buscó la anología para \"vejiga\", partiendo de la relación \"sangre-vaso\" y se obtuvo \"orina\" como resultado; lo cuál es correcto."
      ],
      "metadata": {
        "id": "2WFzg7Va8jbL"
      }
    },
    {
      "cell_type": "code",
      "source": [
        "result = w2v_model.wv.most_similar(positive=['breast', 'men'], negative=['women'], topn=1)\n",
        "print(f'La analogía para \"hombre\" de la relación \"mujer-mama\" es: {result}')"
      ],
      "metadata": {
        "colab": {
          "base_uri": "https://localhost:8080/"
        },
        "id": "MUpba6rP_K6E",
        "outputId": "ed7e7a55-e1f4-46e4-e1ca-667d43da8477"
      },
      "execution_count": 16,
      "outputs": [
        {
          "output_type": "stream",
          "name": "stdout",
          "text": [
            "La analogía para \"hombre\" de la relación \"mujer-mama\" es: [('prostate', 0.4577924311161041)]\n"
          ]
        }
      ]
    },
    {
      "cell_type": "code",
      "source": [
        "result = w2v_model.wv.most_similar(positive=['blood', 'bladder'], negative=['vessels'], topn=1)\n",
        "print(f'La analogía para \"vejiga\" de la relación \"sangre-vaso\" es: {result}')"
      ],
      "metadata": {
        "colab": {
          "base_uri": "https://localhost:8080/"
        },
        "id": "_dwalDlVtC-B",
        "outputId": "e3f5aeb8-9e09-4472-a0e5-6f2637a8071b"
      },
      "execution_count": 17,
      "outputs": [
        {
          "output_type": "stream",
          "name": "stdout",
          "text": [
            "La analogía para \"vejiga\" de la relación \"sangre-vaso\" es: [('urine', 0.4657147228717804)]\n"
          ]
        }
      ]
    },
    {
      "cell_type": "markdown",
      "metadata": {
        "id": "_g8UVWe6lFmh"
      },
      "source": [
        "### 6 - Visualizar agrupación de vectores\n",
        "\n",
        "Se graficaron los vectores con reducción de dimensiones en 2 y 3d, y se obtuvieron los datos para la garficación con projector.tensorflow.org lo cuál mostró, incluisve con reduccipin de dimensionalidad a través de PCA o TSNE, cercanía entre los conceptos que tienen similaridad. Por ejemlo: Childohood-chlren-growth-hormones; o sunscreen-protecting-uv-sun-avoid-exposure\n",
        "\n",
        "\n"
      ]
    },
    {
      "cell_type": "code",
      "execution_count": 18,
      "metadata": {
        "id": "pDxEVXAivjr9"
      },
      "outputs": [],
      "source": [
        "from sklearn.decomposition import IncrementalPCA\n",
        "from sklearn.manifold import TSNE\n",
        "import numpy as np\n",
        "\n",
        "def reduce_dimensions(model, num_dimensions = 2 ):\n",
        "\n",
        "    vectors = np.asarray(model.wv.vectors)\n",
        "    labels = np.asarray(model.wv.index_to_key)\n",
        "\n",
        "    tsne = TSNE(n_components=num_dimensions, random_state=0)\n",
        "    vectors = tsne.fit_transform(vectors)\n",
        "\n",
        "    return vectors, labels"
      ]
    },
    {
      "cell_type": "code",
      "execution_count": 19,
      "metadata": {
        "id": "NCCXtDpcugmd",
        "colab": {
          "base_uri": "https://localhost:8080/",
          "height": 542
        },
        "outputId": "cf147775-b4b2-4717-e137-fc5e87d187dc"
      },
      "outputs": [
        {
          "output_type": "display_data",
          "data": {
            "text/html": [
              "<html>\n",
              "<head><meta charset=\"utf-8\" /></head>\n",
              "<body>\n",
              "    <div>            <script src=\"https://cdnjs.cloudflare.com/ajax/libs/mathjax/2.7.5/MathJax.js?config=TeX-AMS-MML_SVG\"></script><script type=\"text/javascript\">if (window.MathJax && window.MathJax.Hub && window.MathJax.Hub.Config) {window.MathJax.Hub.Config({SVG: {font: \"STIX-Web\"}});}</script>                <script type=\"text/javascript\">window.PlotlyConfig = {MathJaxConfig: 'local'};</script>\n",
              "        <script charset=\"utf-8\" src=\"https://cdn.plot.ly/plotly-2.24.1.min.js\"></script>                <div id=\"8c234ad6-04d1-400b-b9b9-47248984cee6\" class=\"plotly-graph-div\" style=\"height:525px; width:100%;\"></div>            <script type=\"text/javascript\">                                    window.PLOTLYENV=window.PLOTLYENV || {};                                    if (document.getElementById(\"8c234ad6-04d1-400b-b9b9-47248984cee6\")) {                    Plotly.newPlot(                        \"8c234ad6-04d1-400b-b9b9-47248984cee6\",                        [{\"hovertemplate\":\"x=%{x}\\u003cbr\\u003ey=%{y}\\u003cbr\\u003etext=%{text}\\u003cextra\\u003e\\u003c\\u002fextra\\u003e\",\"legendgroup\":\"\",\"marker\":{\"color\":\"#636efa\",\"symbol\":\"circle\"},\"mode\":\"markers+text\",\"name\":\"\",\"orientation\":\"v\",\"showlegend\":false,\"text\":[\"cancer\",\"treatment\",\"clinical\",\"the\",\"trials\",\"cells\",\"therapy\",\"tumor\",\"body\",\"stage\",\"a\",\"patients\",\"radiation\",\"risk\",\"lymph\",\"blood\",\"spread\",\"breast\",\"surgery\",\"chemotherapy\",\"new\",\"following\",\"tests\",\"tissue\",\"trial\",\"treatments\",\"type\",\"called\",\"types\",\"skin\",\"include\",\"cell\",\"standard\",\"parts\",\"procedure\",\"nodes\",\"this\",\"tumors\",\"prostate\",\"check\",\"brain\",\"taking\",\"signs\",\"there\",\"given\",\"for\",\"drugs\",\"disease\",\"help\",\"test\",\"some\",\"in\",\"liver\",\"certain\",\"high\",\"it\",\"doctor\",\"information\",\"symptoms\",\"uses\",\"factors\",\"childhood\",\"remove\",\"removed\",\"tissues\",\"search\",\"bone\",\"these\",\"bile\",\"results\",\"options\",\"effects\",\"carcinoma\",\"different\",\"stem\",\"areas\",\"having\",\"drug\",\"leukemia\",\"treated\",\"hormone\",\"spreads\",\"research\",\"lower\",\"duct\",\"node\",\"small\",\"nci\",\"back\",\"time\",\"normal\",\"nearby\",\"children\",\"ways\",\"see\",\"biopsy\",\"vessels\",\"stop\",\"adult\",\"better\",\"melanoma\",\"talk\",\"when\",\"what\",\"receive\",\"system\",\"affect\",\"diagnose\",\"women\",\"x\",\"men\",\"metastatic\",\"kidney\",\"targeted\",\"began\",\"usually\",\"way\",\"taken\",\"injected\",\"organs\",\"other\",\"cause\",\"colon\",\"think\",\"chance\",\"improve\",\"studied\",\"exam\",\"if\",\"specific\",\"scan\",\"diagnosed\",\"abdomen\",\"an\",\"form\",\"inside\",\"substance\",\"history\",\"sample\",\"primary\",\"based\",\"health\",\"treat\",\"right\",\"stages\",\"process\",\"tested\",\"colorectal\",\"abnormal\",\"gallbladder\",\"prevent\",\"2\",\"vein\",\"radioactive\",\"growth\",\"renal\",\"malignant\",\"pictures\",\"important\",\"enter\",\"caused\",\"whether\",\"tomography\",\"microscope\",\"list\",\"effective\",\"neuroblastoma\",\"section\",\"accepting\",\"travels\",\"features\",\"want\",\"come\",\"i\",\"kill\",\"prognosis\",\"or\",\"used\",\"location\",\"substances\",\"supported\",\"refine\",\"pelvis\",\"wilms\",\"larger\",\"ii\",\"sarcoma\",\"years\",\"child\",\"lung\",\"near\",\"iv\",\"estrogen\",\"needed\",\"checked\",\"imaging\",\"removal\",\"getting\",\"look\",\"recurrent\"],\"x\":[1.0727202892303467,10.001043319702148,10.145487785339355,1.1284250020980835,10.22404956817627,-10.23537540435791,-17.82392120361328,-0.14535853266716003,1.9798847436904907,39.719058990478516,-1.6413519382476807,10.427809715270996,-17.851348876953125,0.0882534608244896,31.92752456665039,0.058248840272426605,30.6959285736084,-17.67866325378418,20.090837478637695,-19.040193557739258,11.095427513122559,-0.47539815306663513,24.789573669433594,20.048301696777344,9.295787811279297,11.218280792236328,-10.07208251953125,1.865374207496643,11.179498672485352,20.508310317993164,-1.008016586303711,21.57476806640625,8.869668006896973,30.363483428955078,-1.8079792261123657,31.97797393798828,-3.421628475189209,-1.2875219583511353,-2.627234697341919,-49.59629440307617,-18.943016052246094,7.930084228515625,-4.120187282562256,37.80881118774414,-17.40062141418457,-1.5089728832244873,-20.09225845336914,3.2763001918792725,53.57677459716797,-21.206205368041992,11.08403205871582,-36.833099365234375,18.84572410583496,1.9305058717727661,-25.318992614746094,47.90741729736328,10.413620948791504,14.89691162109375,-4.154221057891846,-19.178844451904297,1.1679209470748901,-18.29593276977539,20.211952209472656,19.908132553100586,42.534515380859375,48.194488525390625,-32.828765869140625,20.394519805908203,39.56624984741211,48.3559684753418,22.377044677734375,-23.997955322265625,22.5933780670166,12.700419425964355,-28.821949005126953,2.9555580615997314,3.0610945224761963,-22.26689338684082,-18.536415100097656,7.755603790283203,-22.691896438598633,36.3642463684082,11.164714813232422,-2.112537384033203,39.3079833984375,23.71771812438965,12.444987297058105,-49.079959869384766,-41.522850036621094,2.5584821701049805,-4.21537971496582,31.957565307617188,-12.540974617004395,17.558849334716797,15.204327583312988,29.51050567626953,0.8839359879493713,14.379318237304688,26.31117820739746,12.496541976928711,19.555583953857422,11.27686595916748,-42.778564453125,31.7945613861084,13.700576782226562,36.33774948120117,-36.3619384765625,25.4642391204834,-20.22203254699707,-1.482915997505188,-2.8913633823394775,35.20241928100586,9.788071632385254,-30.7608642578125,36.409385681152344,10.384827613830566,15.98316478729248,1.477384090423584,0.42923837900161743,40.81175994873047,6.000885009765625,9.903989791870117,24.552902221679688,7.823894500732422,22.419723510742188,-48.60459899902344,-25.965824127197266,-2.412527322769165,17.931529998779297,49.378902435302734,-12.695127487182617,-15.305383682250977,20.423194885253906,12.689269065856934,43.33161163330078,1.0550943613052368,-17.621326446533203,5.609107494354248,-1.8973729610443115,37.16606903076172,12.223186492919922,1.7823883295059204,-24.34733772277832,43.89030456542969,40.192832946777344,30.537841796875,10.390954971313477,-5.348142147064209,18.183019638061523,39.96262741088867,0.319566011428833,45.99354553222656,0.40037328004837036,-19.496519088745117,-34.370609283447266,31.174814224243164,13.960697174072266,-9.446550369262695,-10.06021499633789,20.965009689331055,-4.173942565917969,-9.482770919799805,-5.934051990509033,33.25310134887695,-49.69718551635742,13.515999794006348,-26.157936096191406,13.301169395446777,-49.9857063293457,39.331329345703125,47.5200309753418,7.856504917144775,-41.48676300048828,40.7012825012207,-16.36519432067871,23.074138641357422,43.51089859008789,-4.976383209228516,47.49028015136719,-41.34716033935547,-49.86522674560547,48.3669319152832,30.81090545654297,9.249180793762207,43.73378372192383,41.04399490356445,25.68271827697754,-11.676535606384277,-12.201681137084961,25.389619827270508,-50.508358001708984,41.938724517822266,-27.29425621032715,4.440132141113281,-1.7977485656738281,-9.043314933776855,30.511693954467773,3.1053483486175537,33.26839065551758,36.88559341430664],\"xaxis\":\"x\",\"y\":[4.246603488922119,35.34303665161133,37.752403259277344,2.44748592376709,37.59206771850586,-14.350939750671387,-16.71297264099121,1.9074259996414185,1.665230631828308,3.0946624279022217,-31.397258758544922,38.897640228271484,-17.161447525024414,24.48813819885254,-5.477916240692139,-7.086219787597656,-1.6827590465545654,16.4437255859375,-15.724163055419922,-14.136421203613281,37.586910247802734,5.555841445922852,26.926000595092773,-9.879714965820312,38.238121032714844,39.13726806640625,-16.405895233154297,3.099440336227417,33.769405364990234,8.706755638122559,5.919768810272217,12.334322929382324,36.63792419433594,-1.4616420269012451,-31.831558227539062,-5.572715759277344,-31.678241729736328,1.7466628551483154,7.972480297088623,-12.43735408782959,1.3190248012542725,39.253257751464844,4.064538955688477,17.950695037841797,-13.997788429260254,3.6671273708343506,-14.003326416015625,3.9856789112091064,-20.271099090576172,33.73106002807617,35.80493927001953,18.569177627563477,-22.01795196533203,5.245029449462891,-19.62090492248535,2.30649471282959,16.671632766723633,30.64899253845215,4.280024528503418,-18.327892303466797,25.217485427856445,-1.5791045427322388,-15.941059112548828,-14.9808931350708,-22.424278259277344,14.001063346862793,-32.13848876953125,28.125883102416992,10.246851921081543,15.292766571044922,34.61912155151367,44.79185485839844,12.199996948242188,33.6533203125,-20.755931854248047,-33.47526931762695,20.594985961914062,-18.542007446289062,-3.8080122470855713,34.69057846069336,11.234098434448242,24.07293701171875,40.32003402709961,25.396820068359375,10.219184875488281,-24.941164016723633,-29.71796989440918,-14.65936279296875,17.64603614807129,41.0937614440918,-12.768052101135254,-4.130772113800049,10.595131874084473,35.43387985229492,29.221227645874023,-28.695226669311523,-6.811643600463867,35.9908332824707,9.789841651916504,37.99998474121094,9.731827735900879,18.058286666870117,-15.899048805236816,31.546579360961914,45.941585540771484,25.110204696655273,22.561391830444336,27.29654884338379,20.861146926879883,-37.154029846191406,8.332008361816406,16.443681716918945,7.831188201904297,-7.8132781982421875,24.196443557739258,5.017871856689453,46.412166595458984,-30.57697296142578,-41.563297271728516,-21.272932052612305,36.667537689208984,24.809616088867188,-21.696186065673828,41.44647216796875,33.03053283691406,17.23967742919922,-5.349295616149902,-45.99958801269531,-14.21074104309082,13.53185749053955,-38.716670989990234,0.3004399240016937,-29.749404907226562,-33.41215515136719,-22.579572677612305,-35.57451248168945,-34.00975799560547,20.671430587768555,-17.34501075744629,20.90340232849121,47.24174499511719,-18.1924991607666,-13.876007080078125,15.280345916748047,5.818196773529053,22.334686279296875,33.41352462768555,21.551753997802734,13.796961784362793,11.008973121643066,32.54264450073242,-7.514601707458496,-41.57173538208008,-33.130287170410156,1.8120628595352173,11.291823387145996,19.323089599609375,-39.26180648803711,41.68002700805664,41.24287033081055,5.234863758087158,-2.1606853008270264,-40.970603942871094,-33.80339813232422,-14.090058326721191,43.92225646972656,-14.768670082092285,30.610816955566406,-14.524038314819336,24.17703628540039,13.253874778747559,41.39528274536133,17.144264221191406,3.5585246086120605,-17.182186126708984,33.62083053588867,-28.45341682434082,43.74701690673828,13.888330459594727,-10.522518157958984,-14.40812873840332,13.978720664978027,10.721117973327637,7.189413547515869,-8.394842147827148,3.336160182952881,8.394087791442871,13.531665802001953,6.865757942199707,20.486188888549805,-6.7563252449035645,1.456386923789978,20.038936614990234,57.7264289855957,-17.48069953918457,-45.664894104003906,-29.146278381347656,23.16221809387207,-33.97134017944336,13.111577987670898],\"yaxis\":\"y\",\"type\":\"scatter\"}],                        {\"template\":{\"data\":{\"histogram2dcontour\":[{\"type\":\"histogram2dcontour\",\"colorbar\":{\"outlinewidth\":0,\"ticks\":\"\"},\"colorscale\":[[0.0,\"#0d0887\"],[0.1111111111111111,\"#46039f\"],[0.2222222222222222,\"#7201a8\"],[0.3333333333333333,\"#9c179e\"],[0.4444444444444444,\"#bd3786\"],[0.5555555555555556,\"#d8576b\"],[0.6666666666666666,\"#ed7953\"],[0.7777777777777778,\"#fb9f3a\"],[0.8888888888888888,\"#fdca26\"],[1.0,\"#f0f921\"]]}],\"choropleth\":[{\"type\":\"choropleth\",\"colorbar\":{\"outlinewidth\":0,\"ticks\":\"\"}}],\"histogram2d\":[{\"type\":\"histogram2d\",\"colorbar\":{\"outlinewidth\":0,\"ticks\":\"\"},\"colorscale\":[[0.0,\"#0d0887\"],[0.1111111111111111,\"#46039f\"],[0.2222222222222222,\"#7201a8\"],[0.3333333333333333,\"#9c179e\"],[0.4444444444444444,\"#bd3786\"],[0.5555555555555556,\"#d8576b\"],[0.6666666666666666,\"#ed7953\"],[0.7777777777777778,\"#fb9f3a\"],[0.8888888888888888,\"#fdca26\"],[1.0,\"#f0f921\"]]}],\"heatmap\":[{\"type\":\"heatmap\",\"colorbar\":{\"outlinewidth\":0,\"ticks\":\"\"},\"colorscale\":[[0.0,\"#0d0887\"],[0.1111111111111111,\"#46039f\"],[0.2222222222222222,\"#7201a8\"],[0.3333333333333333,\"#9c179e\"],[0.4444444444444444,\"#bd3786\"],[0.5555555555555556,\"#d8576b\"],[0.6666666666666666,\"#ed7953\"],[0.7777777777777778,\"#fb9f3a\"],[0.8888888888888888,\"#fdca26\"],[1.0,\"#f0f921\"]]}],\"heatmapgl\":[{\"type\":\"heatmapgl\",\"colorbar\":{\"outlinewidth\":0,\"ticks\":\"\"},\"colorscale\":[[0.0,\"#0d0887\"],[0.1111111111111111,\"#46039f\"],[0.2222222222222222,\"#7201a8\"],[0.3333333333333333,\"#9c179e\"],[0.4444444444444444,\"#bd3786\"],[0.5555555555555556,\"#d8576b\"],[0.6666666666666666,\"#ed7953\"],[0.7777777777777778,\"#fb9f3a\"],[0.8888888888888888,\"#fdca26\"],[1.0,\"#f0f921\"]]}],\"contourcarpet\":[{\"type\":\"contourcarpet\",\"colorbar\":{\"outlinewidth\":0,\"ticks\":\"\"}}],\"contour\":[{\"type\":\"contour\",\"colorbar\":{\"outlinewidth\":0,\"ticks\":\"\"},\"colorscale\":[[0.0,\"#0d0887\"],[0.1111111111111111,\"#46039f\"],[0.2222222222222222,\"#7201a8\"],[0.3333333333333333,\"#9c179e\"],[0.4444444444444444,\"#bd3786\"],[0.5555555555555556,\"#d8576b\"],[0.6666666666666666,\"#ed7953\"],[0.7777777777777778,\"#fb9f3a\"],[0.8888888888888888,\"#fdca26\"],[1.0,\"#f0f921\"]]}],\"surface\":[{\"type\":\"surface\",\"colorbar\":{\"outlinewidth\":0,\"ticks\":\"\"},\"colorscale\":[[0.0,\"#0d0887\"],[0.1111111111111111,\"#46039f\"],[0.2222222222222222,\"#7201a8\"],[0.3333333333333333,\"#9c179e\"],[0.4444444444444444,\"#bd3786\"],[0.5555555555555556,\"#d8576b\"],[0.6666666666666666,\"#ed7953\"],[0.7777777777777778,\"#fb9f3a\"],[0.8888888888888888,\"#fdca26\"],[1.0,\"#f0f921\"]]}],\"mesh3d\":[{\"type\":\"mesh3d\",\"colorbar\":{\"outlinewidth\":0,\"ticks\":\"\"}}],\"scatter\":[{\"fillpattern\":{\"fillmode\":\"overlay\",\"size\":10,\"solidity\":0.2},\"type\":\"scatter\"}],\"parcoords\":[{\"type\":\"parcoords\",\"line\":{\"colorbar\":{\"outlinewidth\":0,\"ticks\":\"\"}}}],\"scatterpolargl\":[{\"type\":\"scatterpolargl\",\"marker\":{\"colorbar\":{\"outlinewidth\":0,\"ticks\":\"\"}}}],\"bar\":[{\"error_x\":{\"color\":\"#2a3f5f\"},\"error_y\":{\"color\":\"#2a3f5f\"},\"marker\":{\"line\":{\"color\":\"#E5ECF6\",\"width\":0.5},\"pattern\":{\"fillmode\":\"overlay\",\"size\":10,\"solidity\":0.2}},\"type\":\"bar\"}],\"scattergeo\":[{\"type\":\"scattergeo\",\"marker\":{\"colorbar\":{\"outlinewidth\":0,\"ticks\":\"\"}}}],\"scatterpolar\":[{\"type\":\"scatterpolar\",\"marker\":{\"colorbar\":{\"outlinewidth\":0,\"ticks\":\"\"}}}],\"histogram\":[{\"marker\":{\"pattern\":{\"fillmode\":\"overlay\",\"size\":10,\"solidity\":0.2}},\"type\":\"histogram\"}],\"scattergl\":[{\"type\":\"scattergl\",\"marker\":{\"colorbar\":{\"outlinewidth\":0,\"ticks\":\"\"}}}],\"scatter3d\":[{\"type\":\"scatter3d\",\"line\":{\"colorbar\":{\"outlinewidth\":0,\"ticks\":\"\"}},\"marker\":{\"colorbar\":{\"outlinewidth\":0,\"ticks\":\"\"}}}],\"scattermapbox\":[{\"type\":\"scattermapbox\",\"marker\":{\"colorbar\":{\"outlinewidth\":0,\"ticks\":\"\"}}}],\"scatterternary\":[{\"type\":\"scatterternary\",\"marker\":{\"colorbar\":{\"outlinewidth\":0,\"ticks\":\"\"}}}],\"scattercarpet\":[{\"type\":\"scattercarpet\",\"marker\":{\"colorbar\":{\"outlinewidth\":0,\"ticks\":\"\"}}}],\"carpet\":[{\"aaxis\":{\"endlinecolor\":\"#2a3f5f\",\"gridcolor\":\"white\",\"linecolor\":\"white\",\"minorgridcolor\":\"white\",\"startlinecolor\":\"#2a3f5f\"},\"baxis\":{\"endlinecolor\":\"#2a3f5f\",\"gridcolor\":\"white\",\"linecolor\":\"white\",\"minorgridcolor\":\"white\",\"startlinecolor\":\"#2a3f5f\"},\"type\":\"carpet\"}],\"table\":[{\"cells\":{\"fill\":{\"color\":\"#EBF0F8\"},\"line\":{\"color\":\"white\"}},\"header\":{\"fill\":{\"color\":\"#C8D4E3\"},\"line\":{\"color\":\"white\"}},\"type\":\"table\"}],\"barpolar\":[{\"marker\":{\"line\":{\"color\":\"#E5ECF6\",\"width\":0.5},\"pattern\":{\"fillmode\":\"overlay\",\"size\":10,\"solidity\":0.2}},\"type\":\"barpolar\"}],\"pie\":[{\"automargin\":true,\"type\":\"pie\"}]},\"layout\":{\"autotypenumbers\":\"strict\",\"colorway\":[\"#636efa\",\"#EF553B\",\"#00cc96\",\"#ab63fa\",\"#FFA15A\",\"#19d3f3\",\"#FF6692\",\"#B6E880\",\"#FF97FF\",\"#FECB52\"],\"font\":{\"color\":\"#2a3f5f\"},\"hovermode\":\"closest\",\"hoverlabel\":{\"align\":\"left\"},\"paper_bgcolor\":\"white\",\"plot_bgcolor\":\"#E5ECF6\",\"polar\":{\"bgcolor\":\"#E5ECF6\",\"angularaxis\":{\"gridcolor\":\"white\",\"linecolor\":\"white\",\"ticks\":\"\"},\"radialaxis\":{\"gridcolor\":\"white\",\"linecolor\":\"white\",\"ticks\":\"\"}},\"ternary\":{\"bgcolor\":\"#E5ECF6\",\"aaxis\":{\"gridcolor\":\"white\",\"linecolor\":\"white\",\"ticks\":\"\"},\"baxis\":{\"gridcolor\":\"white\",\"linecolor\":\"white\",\"ticks\":\"\"},\"caxis\":{\"gridcolor\":\"white\",\"linecolor\":\"white\",\"ticks\":\"\"}},\"coloraxis\":{\"colorbar\":{\"outlinewidth\":0,\"ticks\":\"\"}},\"colorscale\":{\"sequential\":[[0.0,\"#0d0887\"],[0.1111111111111111,\"#46039f\"],[0.2222222222222222,\"#7201a8\"],[0.3333333333333333,\"#9c179e\"],[0.4444444444444444,\"#bd3786\"],[0.5555555555555556,\"#d8576b\"],[0.6666666666666666,\"#ed7953\"],[0.7777777777777778,\"#fb9f3a\"],[0.8888888888888888,\"#fdca26\"],[1.0,\"#f0f921\"]],\"sequentialminus\":[[0.0,\"#0d0887\"],[0.1111111111111111,\"#46039f\"],[0.2222222222222222,\"#7201a8\"],[0.3333333333333333,\"#9c179e\"],[0.4444444444444444,\"#bd3786\"],[0.5555555555555556,\"#d8576b\"],[0.6666666666666666,\"#ed7953\"],[0.7777777777777778,\"#fb9f3a\"],[0.8888888888888888,\"#fdca26\"],[1.0,\"#f0f921\"]],\"diverging\":[[0,\"#8e0152\"],[0.1,\"#c51b7d\"],[0.2,\"#de77ae\"],[0.3,\"#f1b6da\"],[0.4,\"#fde0ef\"],[0.5,\"#f7f7f7\"],[0.6,\"#e6f5d0\"],[0.7,\"#b8e186\"],[0.8,\"#7fbc41\"],[0.9,\"#4d9221\"],[1,\"#276419\"]]},\"xaxis\":{\"gridcolor\":\"white\",\"linecolor\":\"white\",\"ticks\":\"\",\"title\":{\"standoff\":15},\"zerolinecolor\":\"white\",\"automargin\":true,\"zerolinewidth\":2},\"yaxis\":{\"gridcolor\":\"white\",\"linecolor\":\"white\",\"ticks\":\"\",\"title\":{\"standoff\":15},\"zerolinecolor\":\"white\",\"automargin\":true,\"zerolinewidth\":2},\"scene\":{\"xaxis\":{\"backgroundcolor\":\"#E5ECF6\",\"gridcolor\":\"white\",\"linecolor\":\"white\",\"showbackground\":true,\"ticks\":\"\",\"zerolinecolor\":\"white\",\"gridwidth\":2},\"yaxis\":{\"backgroundcolor\":\"#E5ECF6\",\"gridcolor\":\"white\",\"linecolor\":\"white\",\"showbackground\":true,\"ticks\":\"\",\"zerolinecolor\":\"white\",\"gridwidth\":2},\"zaxis\":{\"backgroundcolor\":\"#E5ECF6\",\"gridcolor\":\"white\",\"linecolor\":\"white\",\"showbackground\":true,\"ticks\":\"\",\"zerolinecolor\":\"white\",\"gridwidth\":2}},\"shapedefaults\":{\"line\":{\"color\":\"#2a3f5f\"}},\"annotationdefaults\":{\"arrowcolor\":\"#2a3f5f\",\"arrowhead\":0,\"arrowwidth\":1},\"geo\":{\"bgcolor\":\"white\",\"landcolor\":\"#E5ECF6\",\"subunitcolor\":\"white\",\"showland\":true,\"showlakes\":true,\"lakecolor\":\"white\"},\"title\":{\"x\":0.05},\"mapbox\":{\"style\":\"light\"}}},\"xaxis\":{\"anchor\":\"y\",\"domain\":[0.0,1.0],\"title\":{\"text\":\"x\"}},\"yaxis\":{\"anchor\":\"x\",\"domain\":[0.0,1.0],\"title\":{\"text\":\"y\"}},\"legend\":{\"tracegroupgap\":0},\"margin\":{\"t\":60}},                        {\"responsive\": true}                    ).then(function(){\n",
              "                            \n",
              "var gd = document.getElementById('8c234ad6-04d1-400b-b9b9-47248984cee6');\n",
              "var x = new MutationObserver(function (mutations, observer) {{\n",
              "        var display = window.getComputedStyle(gd).display;\n",
              "        if (!display || display === 'none') {{\n",
              "            console.log([gd, 'removed!']);\n",
              "            Plotly.purge(gd);\n",
              "            observer.disconnect();\n",
              "        }}\n",
              "}});\n",
              "\n",
              "// Listen for the removal of the full notebook cells\n",
              "var notebookContainer = gd.closest('#notebook-container');\n",
              "if (notebookContainer) {{\n",
              "    x.observe(notebookContainer, {childList: true});\n",
              "}}\n",
              "\n",
              "// Listen for the clearing of the current output cell\n",
              "var outputEl = gd.closest('.output');\n",
              "if (outputEl) {{\n",
              "    x.observe(outputEl, {childList: true});\n",
              "}}\n",
              "\n",
              "                        })                };                            </script>        </div>\n",
              "</body>\n",
              "</html>"
            ]
          },
          "metadata": {}
        }
      ],
      "source": [
        "# Graficar los embedddings en 2D\n",
        "import plotly.graph_objects as go\n",
        "import plotly.express as px\n",
        "\n",
        "vecs, labels = reduce_dimensions(w2v_model)\n",
        "\n",
        "MAX_WORDS=200\n",
        "fig = px.scatter(x=vecs[:MAX_WORDS,0], y=vecs[:MAX_WORDS,1], text=labels[:MAX_WORDS])\n",
        "fig.show(renderer=\"colab\") # esto para plotly en colab"
      ]
    },
    {
      "cell_type": "code",
      "execution_count": 20,
      "metadata": {
        "id": "0VRBY6geCjFk",
        "colab": {
          "base_uri": "https://localhost:8080/",
          "height": 542
        },
        "outputId": "f4757836-a75d-4192-fa85-e9358f7674a2"
      },
      "outputs": [
        {
          "output_type": "display_data",
          "data": {
            "text/html": [
              "<html>\n",
              "<head><meta charset=\"utf-8\" /></head>\n",
              "<body>\n",
              "    <div>            <script src=\"https://cdnjs.cloudflare.com/ajax/libs/mathjax/2.7.5/MathJax.js?config=TeX-AMS-MML_SVG\"></script><script type=\"text/javascript\">if (window.MathJax && window.MathJax.Hub && window.MathJax.Hub.Config) {window.MathJax.Hub.Config({SVG: {font: \"STIX-Web\"}});}</script>                <script type=\"text/javascript\">window.PlotlyConfig = {MathJaxConfig: 'local'};</script>\n",
              "        <script charset=\"utf-8\" src=\"https://cdn.plot.ly/plotly-2.24.1.min.js\"></script>                <div id=\"8054d948-5dfa-48de-9e40-8f5289a54f83\" class=\"plotly-graph-div\" style=\"height:525px; width:100%;\"></div>            <script type=\"text/javascript\">                                    window.PLOTLYENV=window.PLOTLYENV || {};                                    if (document.getElementById(\"8054d948-5dfa-48de-9e40-8f5289a54f83\")) {                    Plotly.newPlot(                        \"8054d948-5dfa-48de-9e40-8f5289a54f83\",                        [{\"hovertemplate\":\"x=%{x}\\u003cbr\\u003ey=%{y}\\u003cbr\\u003ez=%{z}\\u003cbr\\u003etext=%{text}\\u003cextra\\u003e\\u003c\\u002fextra\\u003e\",\"legendgroup\":\"\",\"marker\":{\"color\":\"#636efa\",\"symbol\":\"circle\",\"size\":2},\"mode\":\"markers+text\",\"name\":\"\",\"scene\":\"scene\",\"showlegend\":false,\"text\":[\"cancer\",\"treatment\",\"clinical\",\"the\",\"trials\",\"cells\",\"therapy\",\"tumor\",\"body\",\"stage\",\"a\",\"patients\",\"radiation\",\"risk\",\"lymph\",\"blood\",\"spread\",\"breast\",\"surgery\",\"chemotherapy\",\"new\",\"following\",\"tests\",\"tissue\",\"trial\",\"treatments\",\"type\",\"called\",\"types\",\"skin\",\"include\",\"cell\",\"standard\",\"parts\",\"procedure\",\"nodes\",\"this\",\"tumors\",\"prostate\",\"check\",\"brain\",\"taking\",\"signs\",\"there\",\"given\",\"for\",\"drugs\",\"disease\",\"help\",\"test\",\"some\",\"in\",\"liver\",\"certain\",\"high\",\"it\",\"doctor\",\"information\",\"symptoms\",\"uses\",\"factors\",\"childhood\",\"remove\",\"removed\",\"tissues\",\"search\",\"bone\",\"these\",\"bile\",\"results\",\"options\",\"effects\",\"carcinoma\",\"different\",\"stem\",\"areas\",\"having\",\"drug\",\"leukemia\",\"treated\",\"hormone\",\"spreads\",\"research\",\"lower\",\"duct\",\"node\",\"small\",\"nci\",\"back\",\"time\",\"normal\",\"nearby\",\"children\",\"ways\",\"see\",\"biopsy\",\"vessels\",\"stop\",\"adult\",\"better\",\"melanoma\",\"talk\",\"when\",\"what\",\"receive\",\"system\",\"affect\",\"diagnose\",\"women\",\"x\",\"men\",\"metastatic\",\"kidney\",\"targeted\",\"began\",\"usually\",\"way\",\"taken\",\"injected\",\"organs\",\"other\",\"cause\",\"colon\",\"think\",\"chance\",\"improve\",\"studied\",\"exam\",\"if\",\"specific\",\"scan\",\"diagnosed\",\"abdomen\",\"an\",\"form\",\"inside\",\"substance\",\"history\",\"sample\",\"primary\",\"based\",\"health\",\"treat\",\"right\",\"stages\",\"process\",\"tested\",\"colorectal\",\"abnormal\",\"gallbladder\",\"prevent\",\"2\",\"vein\",\"radioactive\",\"growth\",\"renal\",\"malignant\",\"pictures\",\"important\",\"enter\",\"caused\",\"whether\",\"tomography\",\"microscope\",\"list\",\"effective\",\"neuroblastoma\",\"section\",\"accepting\",\"travels\",\"features\",\"want\",\"come\",\"i\",\"kill\",\"prognosis\",\"or\",\"used\",\"location\",\"substances\",\"supported\",\"refine\",\"pelvis\",\"wilms\",\"larger\",\"ii\",\"sarcoma\",\"years\",\"child\",\"lung\",\"near\",\"iv\",\"estrogen\",\"needed\",\"checked\",\"imaging\",\"removal\",\"getting\",\"look\",\"recurrent\"],\"x\":[19.192773818969727,21.250333786010742,23.36188316345215,-2.0592169761657715,22.115453720092773,0.4128358066082001,-1.0736615657806396,-1.333842396736145,-2.0715208053588867,-10.48294734954834,-22.899873733520508,24.284351348876953,-3.247354030609131,-8.55593204498291,-10.483036041259766,5.614799976348877,-6.5089850425720215,1.2719683647155762,-3.974165678024292,0.09446713328361511,24.915145874023438,25.070642471313477,10.783817291259766,-12.605939865112305,21.126140594482422,27.04000473022461,31.32353973388672,1.8473585844039917,29.787254333496094,12.81047534942627,28.141328811645508,15.78104019165039,24.068017959594727,-4.608656406402588,-22.377099990844727,-11.806819915771484,-0.4426189363002777,20.732303619384766,-1.2229145765304565,7.6059722900390625,15.596824645996094,21.89448356628418,27.991783142089844,29.93381118774414,-1.9447581768035889,20.426483154296875,2.2643725872039795,-1.70619535446167,21.106557846069336,10.659575462341309,24.87477684020996,-5.52564001083374,-3.194927930831909,3.6389575004577637,4.907234191894531,-5.4344987869262695,28.234941482543945,16.161911010742188,30.046743392944336,-3.489504814147949,-10.753069877624512,25.70624542236328,-5.880105495452881,-2.824289321899414,-21.050899505615234,34.11063766479492,-12.797417640686035,20.615909576416016,-1.2384388446807861,36.01346206665039,6.1935858726501465,27.153318405151367,13.103577613830566,33.38410186767578,30.457181930541992,-14.146234512329102,-14.366025924682617,24.077524185180664,22.558923721313477,17.607389450073242,3.8783819675445557,3.736697196960449,26.150867462158203,-11.844732284545898,0.3801753520965576,-32.293975830078125,-31.00015640258789,12.373754501342773,44.22867965698242,12.8672456741333,0.698701024055481,-8.423994064331055,20.218656539916992,15.485740661621094,12.28123950958252,-29.67205810546875,-11.896185874938965,37.78767395019531,26.205129623413086,27.915088653564453,13.972599983215332,29.18954849243164,0.14006835222244263,-0.6329784393310547,23.692405700683594,4.041213512420654,2.1649086475372314,8.826149940490723,1.39846932888031,-28.825210571289062,1.2868083715438843,7.9032440185546875,17.841272354125977,6.830976486206055,2.262355089187622,0.24525922536849976,23.607160568237305,-19.488937377929688,-31.171571731567383,-21.249481201171875,19.25314712524414,24.3193359375,-11.319488525390625,19.723094940185547,1.3425946235656738,31.73787498474121,26.7417049407959,-7.6363396644592285,2.0604727268218994,36.007232666015625,-23.95676612854004,21.247825622558594,-13.446951866149902,-20.265731811523438,-19.920042037963867,-17.3775634765625,-7.424925804138184,-20.473949432373047,-27.418846130371094,1.7790700197219849,19.949941635131836,22.732831954956055,3.9993855953216553,30.507631301879883,-5.292240142822266,16.042234420776367,28.754526138305664,-21.992555618286133,-9.572660446166992,1.5596526861190796,-7.287153720855713,-25.667320251464844,-31.58478546142578,-2.5481948852539062,22.426305770874023,16.669706344604492,3.1062235832214355,-16.42011833190918,23.272775650024414,31.618144989013672,33.146995544433594,7.376031398773193,-23.82527732849121,-36.54441833496094,9.805448532104492,26.31377410888672,33.12562942504883,14.6853666305542,11.35710620880127,5.630532264709473,31.049604415893555,20.092851638793945,43.95291519165039,-9.358107566833496,1.1513566970825195,5.260391712188721,-42.17279815673828,35.45838165283203,32.21992111206055,19.029815673828125,9.65359115600586,33.256919860839844,16.969547271728516,20.72129249572754,-25.94072151184082,-11.599432945251465,21.485937118530273,15.151287078857422,6.413113594055176,10.614809036254883,-28.54862403869629,-14.471121788024902,9.198680877685547,41.8281364440918,-25.387765884399414,-14.134234428405762,-29.61346435546875,-8.538957595825195,-38.34835433959961,7.636288642883301],\"y\":[-3.300523281097412,-5.837406635284424,-10.171360969543457,8.831293106079102,-10.03270149230957,13.328263282775879,-8.034954071044922,4.896714210510254,12.530649185180664,10.921627044677734,9.803930282592773,-6.802960395812988,-7.7395853996276855,-20.736940383911133,13.276129722595215,18.55034828186035,10.596553802490234,-14.155800819396973,0.28533512353897095,-11.532628059387207,-12.230613708496094,22.3780517578125,-7.8057146072387695,15.522821426391602,-9.904257774353027,-8.331467628479004,19.699613571166992,9.807954788208008,-9.883530616760254,24.888545989990234,23.183425903320312,20.022085189819336,-7.8691630363464355,12.142906188964844,8.093738555908203,12.256001472473145,7.72836971282959,15.725996971130371,-22.203128814697266,-32.66624450683594,-27.25331687927246,-14.386914253234863,22.98851776123047,-6.352567195892334,-10.356776237487793,-3.453341007232666,-13.628890991210938,-7.714351177215576,-3.7176454067230225,16.0488338470459,-3.2327263355255127,0.7994728684425354,10.450165748596191,-0.5741307139396667,-6.9384765625,-7.093482494354248,6.967471599578857,-6.205224990844727,22.11246681213379,-3.956624984741211,-21.69668960571289,-6.93560266494751,1.7248965501785278,-0.0829886943101883,18.975597381591797,9.537738800048828,-31.054508209228516,0.04183346778154373,14.601934432983398,12.198336601257324,-24.144275665283203,-26.054889678955078,21.93545913696289,-9.489466667175293,-3.0673511028289795,28.144182205200195,-15.557955741882324,16.858800888061523,-13.240714073181152,-7.412190914154053,-11.207931518554688,2.050696611404419,-9.288737297058105,-21.931556701660156,13.815024375915527,10.94095230102539,2.148545980453491,-28.17288589477539,9.805651664733887,-15.268013954162598,13.926560401916504,15.473288536071777,-20.34804916381836,-2.868821382522583,-7.6201887130737305,15.363999366760254,24.623287200927734,-11.019630432128906,2.345668315887451,-13.365043640136719,21.982160568237305,7.000560283660889,16.85638427734375,0.5521894097328186,-11.222681999206543,-0.5115208029747009,-24.85723114013672,-7.18169641494751,-14.980836868286133,13.897933959960938,-22.186201095581055,11.236042976379395,8.115155220031738,-9.861044883728027,1.8429584503173828,30.925228118896484,-5.293915748596191,15.569725036621094,2.6889841556549072,16.32707977294922,-12.941482543945312,12.593456268310547,16.163936614990234,-20.36455726623535,-22.15943717956543,-10.059907913208008,-21.39359474182129,23.871583938598633,2.1120522022247314,6.6231689453125,4.103697299957275,-0.5081339478492737,34.353607177734375,16.96858787536621,20.672250747680664,9.844969749450684,3.112537384033203,-21.152973175048828,20.875991821289062,7.682765960693359,-10.624680519104004,27.91537857055664,-8.339672088623047,13.215548515319824,5.3474225997924805,-1.2336114645004272,-13.177705764770508,-25.92699432373047,23.500701904296875,15.51893424987793,-33.39314270019531,-13.254059791564941,4.478554725646973,2.567039966583252,-9.690162658691406,10.717255592346191,24.71525764465332,3.458433151245117,0.8298101425170898,-0.1164930984377861,21.395418167114258,-14.845061302185059,4.301955699920654,14.189054489135742,-30.08839988708496,-10.799202919006348,-8.887796401977539,-10.518148422241211,-29.455549240112305,6.404939651489258,10.973549842834473,-18.536907196044922,12.246732711791992,10.249149322509766,-6.118945121765137,-21.95699691772461,7.017588138580322,-16.061351776123047,8.403776168823242,3.3169050216674805,-27.69847869873047,8.749449729919434,13.777985572814941,8.114076614379883,-4.378935813903809,9.884553909301758,5.531756401062012,-25.16985511779785,-24.060245513916016,3.4515252113342285,7.874194145202637,12.911710739135742,-18.510927200317383,-8.411458015441895,21.177568435668945,17.83891487121582,18.240480422973633,-21.20233917236328,12.78536319732666,16.995149612426758],\"z\":[-18.30547523498535,-16.97566032409668,-19.612462997436523,-0.7353903651237488,-17.697420120239258,2.224623680114746,23.624326705932617,-2.207648754119873,-2.0087921619415283,-24.41336441040039,22.22962188720703,-19.98218536376953,24.86847686767578,-15.852275848388672,-10.18719482421875,3.2569010257720947,-11.575535774230957,-1.5338666439056396,4.889256477355957,23.615678787231445,-17.54673957824707,-9.462138175964355,-31.780494689941406,-6.042156219482422,-21.80774688720703,-18.430465698242188,-16.80281639099121,-0.6434916257858276,-12.678399085998535,-28.1931209564209,-9.446820259094238,-21.7132625579834,-14.50322437286377,-10.720176696777344,24.0654239654541,-11.64344596862793,3.214127779006958,-3.2424368858337402,-11.84366226196289,26.031906127929688,-15.903247833251953,-20.58391571044922,11.154069900512695,-13.498726844787598,19.991729736328125,-14.194727897644043,24.568527221679688,-29.49640655517578,-22.269832611083984,4.080368518829346,-17.026796340942383,-15.192342758178711,-34.00260543823242,-15.539139747619629,36.804115295410156,-42.516380310058594,-23.869688034057617,-21.478260040283203,10.89833927154541,22.86739730834961,-18.123228073120117,-7.2904510498046875,4.357948303222656,2.0625102519989014,-24.18097686767578,-15.057353973388672,22.4652099609375,-17.801223754882812,-32.1976318359375,-14.399517059326172,-27.54311752319336,3.7211952209472656,-20.413253784179688,-11.08169937133789,-1.285966157913208,0.13296175003051758,-25.347057342529297,16.191152572631836,-5.212883472442627,-15.183343887329102,7.789865970611572,-38.549869537353516,-22.674484252929688,-12.364179611206055,-30.662912368774414,-5.327577590942383,11.952661514282227,26.739580154418945,-10.350540161132812,-17.303302764892578,6.861328601837158,-12.263008117675781,-2.6147449016571045,-17.354496002197266,-21.993310928344727,0.18853944540023804,-34.01538848876953,-17.18611717224121,-13.952640533447266,-19.9096622467041,-30.043659210205078,-19.20903968811035,1.8693656921386719,-31.924205780029297,-33.3671875,-41.8102912902832,-33.764190673828125,-34.02517318725586,2.0501067638397217,23.475244522094727,-10.437145233154297,-30.688627243041992,-22.510581970214844,21.66537857055664,-40.33047866821289,-13.310065269470215,-29.36799430847168,6.759953498840332,28.34588050842285,-19.959331512451172,-15.555397987365723,-30.764619827270508,-34.207271575927734,-20.646099090576172,-27.89678192138672,22.798343658447266,-6.632405757904053,16.950668334960938,3.7749600410461426,-14.094728469848633,38.266151428222656,-9.21580696105957,-20.947547912597656,21.4841251373291,-26.88228988647461,25.434940338134766,36.16343307495117,-28.27017593383789,11.581872940063477,-35.74030303955078,-29.339662551879883,15.034850120544434,26.660505294799805,-23.172319412231445,-27.41317367553711,-37.31156921386719,-13.386862754821777,-12.089008331298828,-22.49093246459961,-33.70988845825195,-21.16234016418457,-14.230508804321289,29.699447631835938,34.18154525756836,18.943513870239258,-24.43341064453125,-15.802812576293945,35.843231201171875,-25.054237365722656,-22.286211013793945,10.853469848632812,-26.660419464111328,29.79505157470703,9.545369148254395,27.582239151000977,-26.996089935302734,-2.946049928665161,-20.18375587463379,30.093753814697266,-43.235496520996094,-15.323530197143555,-21.86881446838379,-9.579936027526855,-27.57979965209961,21.560930252075195,-30.626468658447266,-15.091683387756348,-3.703273057937622,-16.923322677612305,28.701128005981445,28.9273681640625,-12.97088623046875,-26.58457374572754,-20.363082885742188,-12.250511169433594,-28.415321350097656,-15.050373077392578,-6.636894226074219,-18.998336791992188,-27.884475708007812,-22.632614135742188,-24.448528289794922,5.943432331085205,-9.656543731689453,13.19135856628418,39.1109619140625,3.2217071056365967,-23.952192306518555,10.56466293334961,-26.833660125732422],\"type\":\"scatter3d\"}],                        {\"template\":{\"data\":{\"histogram2dcontour\":[{\"type\":\"histogram2dcontour\",\"colorbar\":{\"outlinewidth\":0,\"ticks\":\"\"},\"colorscale\":[[0.0,\"#0d0887\"],[0.1111111111111111,\"#46039f\"],[0.2222222222222222,\"#7201a8\"],[0.3333333333333333,\"#9c179e\"],[0.4444444444444444,\"#bd3786\"],[0.5555555555555556,\"#d8576b\"],[0.6666666666666666,\"#ed7953\"],[0.7777777777777778,\"#fb9f3a\"],[0.8888888888888888,\"#fdca26\"],[1.0,\"#f0f921\"]]}],\"choropleth\":[{\"type\":\"choropleth\",\"colorbar\":{\"outlinewidth\":0,\"ticks\":\"\"}}],\"histogram2d\":[{\"type\":\"histogram2d\",\"colorbar\":{\"outlinewidth\":0,\"ticks\":\"\"},\"colorscale\":[[0.0,\"#0d0887\"],[0.1111111111111111,\"#46039f\"],[0.2222222222222222,\"#7201a8\"],[0.3333333333333333,\"#9c179e\"],[0.4444444444444444,\"#bd3786\"],[0.5555555555555556,\"#d8576b\"],[0.6666666666666666,\"#ed7953\"],[0.7777777777777778,\"#fb9f3a\"],[0.8888888888888888,\"#fdca26\"],[1.0,\"#f0f921\"]]}],\"heatmap\":[{\"type\":\"heatmap\",\"colorbar\":{\"outlinewidth\":0,\"ticks\":\"\"},\"colorscale\":[[0.0,\"#0d0887\"],[0.1111111111111111,\"#46039f\"],[0.2222222222222222,\"#7201a8\"],[0.3333333333333333,\"#9c179e\"],[0.4444444444444444,\"#bd3786\"],[0.5555555555555556,\"#d8576b\"],[0.6666666666666666,\"#ed7953\"],[0.7777777777777778,\"#fb9f3a\"],[0.8888888888888888,\"#fdca26\"],[1.0,\"#f0f921\"]]}],\"heatmapgl\":[{\"type\":\"heatmapgl\",\"colorbar\":{\"outlinewidth\":0,\"ticks\":\"\"},\"colorscale\":[[0.0,\"#0d0887\"],[0.1111111111111111,\"#46039f\"],[0.2222222222222222,\"#7201a8\"],[0.3333333333333333,\"#9c179e\"],[0.4444444444444444,\"#bd3786\"],[0.5555555555555556,\"#d8576b\"],[0.6666666666666666,\"#ed7953\"],[0.7777777777777778,\"#fb9f3a\"],[0.8888888888888888,\"#fdca26\"],[1.0,\"#f0f921\"]]}],\"contourcarpet\":[{\"type\":\"contourcarpet\",\"colorbar\":{\"outlinewidth\":0,\"ticks\":\"\"}}],\"contour\":[{\"type\":\"contour\",\"colorbar\":{\"outlinewidth\":0,\"ticks\":\"\"},\"colorscale\":[[0.0,\"#0d0887\"],[0.1111111111111111,\"#46039f\"],[0.2222222222222222,\"#7201a8\"],[0.3333333333333333,\"#9c179e\"],[0.4444444444444444,\"#bd3786\"],[0.5555555555555556,\"#d8576b\"],[0.6666666666666666,\"#ed7953\"],[0.7777777777777778,\"#fb9f3a\"],[0.8888888888888888,\"#fdca26\"],[1.0,\"#f0f921\"]]}],\"surface\":[{\"type\":\"surface\",\"colorbar\":{\"outlinewidth\":0,\"ticks\":\"\"},\"colorscale\":[[0.0,\"#0d0887\"],[0.1111111111111111,\"#46039f\"],[0.2222222222222222,\"#7201a8\"],[0.3333333333333333,\"#9c179e\"],[0.4444444444444444,\"#bd3786\"],[0.5555555555555556,\"#d8576b\"],[0.6666666666666666,\"#ed7953\"],[0.7777777777777778,\"#fb9f3a\"],[0.8888888888888888,\"#fdca26\"],[1.0,\"#f0f921\"]]}],\"mesh3d\":[{\"type\":\"mesh3d\",\"colorbar\":{\"outlinewidth\":0,\"ticks\":\"\"}}],\"scatter\":[{\"fillpattern\":{\"fillmode\":\"overlay\",\"size\":10,\"solidity\":0.2},\"type\":\"scatter\"}],\"parcoords\":[{\"type\":\"parcoords\",\"line\":{\"colorbar\":{\"outlinewidth\":0,\"ticks\":\"\"}}}],\"scatterpolargl\":[{\"type\":\"scatterpolargl\",\"marker\":{\"colorbar\":{\"outlinewidth\":0,\"ticks\":\"\"}}}],\"bar\":[{\"error_x\":{\"color\":\"#2a3f5f\"},\"error_y\":{\"color\":\"#2a3f5f\"},\"marker\":{\"line\":{\"color\":\"#E5ECF6\",\"width\":0.5},\"pattern\":{\"fillmode\":\"overlay\",\"size\":10,\"solidity\":0.2}},\"type\":\"bar\"}],\"scattergeo\":[{\"type\":\"scattergeo\",\"marker\":{\"colorbar\":{\"outlinewidth\":0,\"ticks\":\"\"}}}],\"scatterpolar\":[{\"type\":\"scatterpolar\",\"marker\":{\"colorbar\":{\"outlinewidth\":0,\"ticks\":\"\"}}}],\"histogram\":[{\"marker\":{\"pattern\":{\"fillmode\":\"overlay\",\"size\":10,\"solidity\":0.2}},\"type\":\"histogram\"}],\"scattergl\":[{\"type\":\"scattergl\",\"marker\":{\"colorbar\":{\"outlinewidth\":0,\"ticks\":\"\"}}}],\"scatter3d\":[{\"type\":\"scatter3d\",\"line\":{\"colorbar\":{\"outlinewidth\":0,\"ticks\":\"\"}},\"marker\":{\"colorbar\":{\"outlinewidth\":0,\"ticks\":\"\"}}}],\"scattermapbox\":[{\"type\":\"scattermapbox\",\"marker\":{\"colorbar\":{\"outlinewidth\":0,\"ticks\":\"\"}}}],\"scatterternary\":[{\"type\":\"scatterternary\",\"marker\":{\"colorbar\":{\"outlinewidth\":0,\"ticks\":\"\"}}}],\"scattercarpet\":[{\"type\":\"scattercarpet\",\"marker\":{\"colorbar\":{\"outlinewidth\":0,\"ticks\":\"\"}}}],\"carpet\":[{\"aaxis\":{\"endlinecolor\":\"#2a3f5f\",\"gridcolor\":\"white\",\"linecolor\":\"white\",\"minorgridcolor\":\"white\",\"startlinecolor\":\"#2a3f5f\"},\"baxis\":{\"endlinecolor\":\"#2a3f5f\",\"gridcolor\":\"white\",\"linecolor\":\"white\",\"minorgridcolor\":\"white\",\"startlinecolor\":\"#2a3f5f\"},\"type\":\"carpet\"}],\"table\":[{\"cells\":{\"fill\":{\"color\":\"#EBF0F8\"},\"line\":{\"color\":\"white\"}},\"header\":{\"fill\":{\"color\":\"#C8D4E3\"},\"line\":{\"color\":\"white\"}},\"type\":\"table\"}],\"barpolar\":[{\"marker\":{\"line\":{\"color\":\"#E5ECF6\",\"width\":0.5},\"pattern\":{\"fillmode\":\"overlay\",\"size\":10,\"solidity\":0.2}},\"type\":\"barpolar\"}],\"pie\":[{\"automargin\":true,\"type\":\"pie\"}]},\"layout\":{\"autotypenumbers\":\"strict\",\"colorway\":[\"#636efa\",\"#EF553B\",\"#00cc96\",\"#ab63fa\",\"#FFA15A\",\"#19d3f3\",\"#FF6692\",\"#B6E880\",\"#FF97FF\",\"#FECB52\"],\"font\":{\"color\":\"#2a3f5f\"},\"hovermode\":\"closest\",\"hoverlabel\":{\"align\":\"left\"},\"paper_bgcolor\":\"white\",\"plot_bgcolor\":\"#E5ECF6\",\"polar\":{\"bgcolor\":\"#E5ECF6\",\"angularaxis\":{\"gridcolor\":\"white\",\"linecolor\":\"white\",\"ticks\":\"\"},\"radialaxis\":{\"gridcolor\":\"white\",\"linecolor\":\"white\",\"ticks\":\"\"}},\"ternary\":{\"bgcolor\":\"#E5ECF6\",\"aaxis\":{\"gridcolor\":\"white\",\"linecolor\":\"white\",\"ticks\":\"\"},\"baxis\":{\"gridcolor\":\"white\",\"linecolor\":\"white\",\"ticks\":\"\"},\"caxis\":{\"gridcolor\":\"white\",\"linecolor\":\"white\",\"ticks\":\"\"}},\"coloraxis\":{\"colorbar\":{\"outlinewidth\":0,\"ticks\":\"\"}},\"colorscale\":{\"sequential\":[[0.0,\"#0d0887\"],[0.1111111111111111,\"#46039f\"],[0.2222222222222222,\"#7201a8\"],[0.3333333333333333,\"#9c179e\"],[0.4444444444444444,\"#bd3786\"],[0.5555555555555556,\"#d8576b\"],[0.6666666666666666,\"#ed7953\"],[0.7777777777777778,\"#fb9f3a\"],[0.8888888888888888,\"#fdca26\"],[1.0,\"#f0f921\"]],\"sequentialminus\":[[0.0,\"#0d0887\"],[0.1111111111111111,\"#46039f\"],[0.2222222222222222,\"#7201a8\"],[0.3333333333333333,\"#9c179e\"],[0.4444444444444444,\"#bd3786\"],[0.5555555555555556,\"#d8576b\"],[0.6666666666666666,\"#ed7953\"],[0.7777777777777778,\"#fb9f3a\"],[0.8888888888888888,\"#fdca26\"],[1.0,\"#f0f921\"]],\"diverging\":[[0,\"#8e0152\"],[0.1,\"#c51b7d\"],[0.2,\"#de77ae\"],[0.3,\"#f1b6da\"],[0.4,\"#fde0ef\"],[0.5,\"#f7f7f7\"],[0.6,\"#e6f5d0\"],[0.7,\"#b8e186\"],[0.8,\"#7fbc41\"],[0.9,\"#4d9221\"],[1,\"#276419\"]]},\"xaxis\":{\"gridcolor\":\"white\",\"linecolor\":\"white\",\"ticks\":\"\",\"title\":{\"standoff\":15},\"zerolinecolor\":\"white\",\"automargin\":true,\"zerolinewidth\":2},\"yaxis\":{\"gridcolor\":\"white\",\"linecolor\":\"white\",\"ticks\":\"\",\"title\":{\"standoff\":15},\"zerolinecolor\":\"white\",\"automargin\":true,\"zerolinewidth\":2},\"scene\":{\"xaxis\":{\"backgroundcolor\":\"#E5ECF6\",\"gridcolor\":\"white\",\"linecolor\":\"white\",\"showbackground\":true,\"ticks\":\"\",\"zerolinecolor\":\"white\",\"gridwidth\":2},\"yaxis\":{\"backgroundcolor\":\"#E5ECF6\",\"gridcolor\":\"white\",\"linecolor\":\"white\",\"showbackground\":true,\"ticks\":\"\",\"zerolinecolor\":\"white\",\"gridwidth\":2},\"zaxis\":{\"backgroundcolor\":\"#E5ECF6\",\"gridcolor\":\"white\",\"linecolor\":\"white\",\"showbackground\":true,\"ticks\":\"\",\"zerolinecolor\":\"white\",\"gridwidth\":2}},\"shapedefaults\":{\"line\":{\"color\":\"#2a3f5f\"}},\"annotationdefaults\":{\"arrowcolor\":\"#2a3f5f\",\"arrowhead\":0,\"arrowwidth\":1},\"geo\":{\"bgcolor\":\"white\",\"landcolor\":\"#E5ECF6\",\"subunitcolor\":\"white\",\"showland\":true,\"showlakes\":true,\"lakecolor\":\"white\"},\"title\":{\"x\":0.05},\"mapbox\":{\"style\":\"light\"}}},\"scene\":{\"domain\":{\"x\":[0.0,1.0],\"y\":[0.0,1.0]},\"xaxis\":{\"title\":{\"text\":\"x\"}},\"yaxis\":{\"title\":{\"text\":\"y\"}},\"zaxis\":{\"title\":{\"text\":\"z\"}}},\"legend\":{\"tracegroupgap\":0},\"margin\":{\"t\":60}},                        {\"responsive\": true}                    ).then(function(){\n",
              "                            \n",
              "var gd = document.getElementById('8054d948-5dfa-48de-9e40-8f5289a54f83');\n",
              "var x = new MutationObserver(function (mutations, observer) {{\n",
              "        var display = window.getComputedStyle(gd).display;\n",
              "        if (!display || display === 'none') {{\n",
              "            console.log([gd, 'removed!']);\n",
              "            Plotly.purge(gd);\n",
              "            observer.disconnect();\n",
              "        }}\n",
              "}});\n",
              "\n",
              "// Listen for the removal of the full notebook cells\n",
              "var notebookContainer = gd.closest('#notebook-container');\n",
              "if (notebookContainer) {{\n",
              "    x.observe(notebookContainer, {childList: true});\n",
              "}}\n",
              "\n",
              "// Listen for the clearing of the current output cell\n",
              "var outputEl = gd.closest('.output');\n",
              "if (outputEl) {{\n",
              "    x.observe(outputEl, {childList: true});\n",
              "}}\n",
              "\n",
              "                        })                };                            </script>        </div>\n",
              "</body>\n",
              "</html>"
            ]
          },
          "metadata": {}
        }
      ],
      "source": [
        "# Graficar los embedddings en 3D\n",
        "\n",
        "vecs, labels = reduce_dimensions(w2v_model,3)\n",
        "\n",
        "fig = px.scatter_3d(x=vecs[:MAX_WORDS,0], y=vecs[:MAX_WORDS,1], z=vecs[:MAX_WORDS,2],text=labels[:MAX_WORDS])\n",
        "fig.update_traces(marker_size = 2)\n",
        "fig.show(renderer=\"colab\") # esto para plotly en colab"
      ]
    },
    {
      "cell_type": "code",
      "execution_count": 21,
      "metadata": {
        "id": "R6vzzC6ACjFl"
      },
      "outputs": [],
      "source": [
        "# También se pueden guardar los vectores y labels como tsv para graficar en\n",
        "# http://projector.tensorflow.org/\n",
        "\n",
        "\n",
        "vectors = np.asarray(w2v_model.wv.vectors)\n",
        "labels = list(w2v_model.wv.index_to_key)\n",
        "\n",
        "np.savetxt(\"vectors.tsv\", vectors, delimiter=\"\\t\")\n",
        "\n",
        "with open(\"labels.tsv\", \"w\") as fp:\n",
        "    for item in labels:\n",
        "        fp.write(\"%s\\n\" % item)"
      ]
    }
  ],
  "metadata": {
    "colab": {
      "provenance": [],
      "toc_visible": true
    },
    "kernelspec": {
      "display_name": "Python 3 (ipykernel)",
      "language": "python",
      "name": "python3"
    },
    "language_info": {
      "codemirror_mode": {
        "name": "ipython",
        "version": 3
      },
      "file_extension": ".py",
      "mimetype": "text/x-python",
      "name": "python",
      "nbconvert_exporter": "python",
      "pygments_lexer": "ipython3",
      "version": "3.10.6"
    }
  },
  "nbformat": 4,
  "nbformat_minor": 0
}